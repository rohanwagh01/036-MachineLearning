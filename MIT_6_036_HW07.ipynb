{
  "nbformat": 4,
  "nbformat_minor": 0,
  "metadata": {
    "colab": {
      "name": "MIT 6.036 HW07",
      "provenance": [],
      "collapsed_sections": [],
      "toc_visible": true,
      "include_colab_link": true
    },
    "kernelspec": {
      "name": "python3",
      "display_name": "Python 3"
    }
  },
  "cells": [
    {
      "cell_type": "markdown",
      "metadata": {
        "id": "view-in-github",
        "colab_type": "text"
      },
      "source": [
        "<a href=\"https://colab.research.google.com/github/rohanwagh01/036-MachineLearning/blob/main/MIT_6_036_HW07.ipynb\" target=\"_parent\"><img src=\"https://colab.research.google.com/assets/colab-badge.svg\" alt=\"Open In Colab\"/></a>"
      ]
    },
    {
      "cell_type": "markdown",
      "metadata": {
        "id": "_xIaEwCD406A"
      },
      "source": [
        "#MIT 6.036 Fall 2020: Homework 7#\n",
        "\n",
        "This colab notebook provides code and a framework for problem 2-4 of the homework.  You can work out your solutions here, then submit your results back on the homework page when ready.\n",
        "\n",
        "**Note**: You can go to `File > Save a copy in Drive...` to save your own copy of this notebook for editing.\n",
        "\n",
        "## <section>**Setup**</section>\n",
        "\n",
        "First, download the code distribution for this homework that contains test cases and helper functions.\n",
        "\n",
        "Run the next code block to download and import the code for this lab.\n"
      ]
    },
    {
      "cell_type": "code",
      "metadata": {
        "id": "2YM-_zLf9Bp-",
        "outputId": "3e6f3daf-9a82-4d54-bd48-5b7e2823a283",
        "colab": {
          "base_uri": "https://localhost:8080/"
        }
      },
      "source": [
        "!rm -rf code_for_hw7*\n",
        "!rm -rf mnist\n",
        "!rm -rf data\n",
        "!wget --no-check-certificate --quiet https://go.odl.mit.edu/subject/6.036/_static/catsoop/homework/hw07/code_for_hw7.zip\n",
        "!unzip code_for_hw7.zip\n",
        "!mv code_for_hw7/* .\n",
        "\n",
        "from code_for_hw7 import *\n",
        "import numpy as np\n",
        "import modules_disp as disp\n"
      ],
      "execution_count": 1,
      "outputs": [
        {
          "output_type": "stream",
          "name": "stdout",
          "text": [
            "Archive:  code_for_hw7.zip\n",
            "   creating: code_for_hw7/\n",
            "  inflating: code_for_hw7/code_for_hw7.py  \n",
            "  inflating: code_for_hw7/pytorch_code_for_hw7.py  \n",
            "  inflating: code_for_hw7/code_for_hw7_pytorch.py  \n",
            "   creating: code_for_hw7/data/\n",
            "  inflating: code_for_hw7/data/data5_validate.csv  \n",
            "  inflating: code_for_hw7/data/data5_train.csv  \n",
            "  inflating: code_for_hw7/data/data1_train.csv  \n",
            "  inflating: code_for_hw7/data/data1_validate.csv  \n",
            "  inflating: code_for_hw7/data/data2_train.csv  \n",
            "  inflating: code_for_hw7/data/data2_validate.csv  \n",
            "  inflating: code_for_hw7/data/data3_train.csv  \n",
            "  inflating: code_for_hw7/data/data3_validate.csv  \n",
            "  inflating: code_for_hw7/data/data3class_train.csv  \n",
            "  inflating: code_for_hw7/data/data4_train.csv  \n",
            "  inflating: code_for_hw7/data/data4_validate.csv  \n",
            "  inflating: code_for_hw7/data/dataXor_train.csv  \n",
            "  inflating: code_for_hw7/expected_results.py  \n",
            "  inflating: code_for_hw7/modules_disp.py  \n",
            "  inflating: code_for_hw7/utils_hw7.py  \n",
            "   creating: code_for_hw7/__pycache__/\n",
            "  inflating: code_for_hw7/__pycache__/modules_disp.cpython-38.pyc  \n",
            "  inflating: code_for_hw7/__pycache__/expected_results.cpython-38.pyc  \n"
          ]
        }
      ]
    },
    {
      "cell_type": "markdown",
      "metadata": {
        "id": "xFxhrJ5XDlvb"
      },
      "source": [
        "# 2) Implementing Neural Networks\n",
        "\n",
        "This homework considers neural networks with multiple layers. Each layer has multiple inputs and outputs, and can be broken down into two parts:\n",
        " \n",
        "<br>\n",
        " \n",
        "A linear module that implements a linear transformation:     $ z_j = (\\sum^{m}_{i=1} x_i W_{i,j}) + {W_0}_jz$\n",
        "\n",
        "specified by a weight matrix $W$ and a bias vector $W_0$. The input is $[x_1, \\ldots, x_m]^T$. The output is $[z_1, \\ldots, z_n]^T$\n",
        "\n",
        "<br>\n",
        "\n",
        "An activation module that applies an activation function to the outputs of the linear module for some activation function $f$, such as Tanh or ReLU in the hidden layers or Softmax (see below) at the output layer. We write the output as: $[f(z_1), \\ldots, f(z_m)]^T$, although technically, for some activation functions such as softmax, each output will depend on all the $z_i$."
      ]
    },
    {
      "cell_type": "markdown",
      "metadata": {
        "id": "MjQgtwPHj08n"
      },
      "source": [
        "Although for \"real\" applications you want to use one of the many packaged implementations of neural networks (we'll start using one of those soon), there is no substitute for implementing one yourself to get an in-depth understanding. Luckily, that is relatively easy to do if we're not too concerned with maximum efficiency.\n",
        "\n",
        "We'll use the modular implementation that we guided you through in the previous problem, which leads to clean code. The basic framework for SGD training is given below. We can construct a network and train it as follows:\n",
        "\n",
        "```\n",
        "# build a 3-layer network\n",
        "net = Sequential([Linear(2,3), Tanh(),\n",
        "                  Linear(3,3), Tanh(),\n",
        "    \t          Linear(3,2), SoftMax()])\n",
        "# train the network on data and labels\n",
        "net.sgd(X, Y)\n",
        "```\n",
        "We will (later) be generalizing SGD to operate on a \"mini-batch\" of data points instead of a single point. You should strive for an implementation of the forward, backward, and `class_fun` methods that works with batches of data. Note that when $b$ is mentioned as part of the shape of a matrix in the code, this $b$ refers to the number of points."
      ]
    },
    {
      "cell_type": "markdown",
      "metadata": {
        "id": "cEwpgsbnho9K"
      },
      "source": [
        "## Linear Modules: ##\n",
        "Each linear module has a forward method that takes in a batch of activations A (from the previous layer) and returns a batch of pre-activations Z.\n",
        "\n",
        "Each linear module has a backward method that takes in dLdZ and returns dLdA. This module also computes and stores dLdW and dLdW0, the gradients with respect to the weights.\n",
        "\n",
        "Hint: be careful with dimensions when computing dLdW0. dLdZ is (n x b), but dLdW0 is (n x 1). Why do you need to sum over all $b$ points in the batch when computing dLdW0?"
      ]
    },
    {
      "cell_type": "code",
      "metadata": {
        "id": "-VsYLAxCfy7U"
      },
      "source": [
        "class Linear(Module):\n",
        "    def __init__(self, m, n):\n",
        "        # initializes the weights randomly and offsets as 0\n",
        "        self.m, self.n = (m, n)  # (in size, out size)\n",
        "        self.W0 = np.zeros([self.n, 1])  # (n x 1)\n",
        "        self.W = np.random.normal(0, 1.0 * m ** (-.5), [m, n])  # (m x n)\n",
        "\n",
        "    def forward(self, A):\n",
        "        # store the input matrix for future use\n",
        "        self.A = A   # (m x b)  Hint: make sure you understand what b stands for\n",
        "        return (self.W).T@A+self.W0@np.ones((1,A.shape[1]))  # Your code (n x b)\n",
        "\n",
        "    def backward(self, dLdZ):  \n",
        "        # dLdZ is (n x b), uses stored self.A\n",
        "        # store the derivatives for use in sgd_step and returd dLdA\n",
        "        self.dLdW = self.A@np.transpose(dLdZ)       # Your code\n",
        "        self.dLdW0 = dLdZ@np.ones((self.A.shape[1],1))      # Your code\n",
        "        return self.W@dLdZ            # Your code: return dLdA (m x b)\n",
        "\n",
        "    def sgd_step(self, lrate):  # Gradient descent step\n",
        "        self.W = self.W-lrate*self.dLdW           # Your code\n",
        "        self.W0 = self.W0-lrate*self.dLdW0          # Your code\n",
        "             # Your code"
      ],
      "execution_count": 2,
      "outputs": []
    },
    {
      "cell_type": "markdown",
      "metadata": {
        "id": "cqZ7_kZYr5s5"
      },
      "source": [
        " You are **highly encouraged** to make your own tests for each module. The test cases being run on catsoop are given below for your reference:"
      ]
    },
    {
      "cell_type": "code",
      "metadata": {
        "id": "aY3yePY0r4eA",
        "outputId": "105e54e4-7775-44de-85e6-8246ba7f546d",
        "colab": {
          "base_uri": "https://localhost:8080/"
        }
      },
      "source": [
        "def nn_linear_forward():\n",
        "    np.random.seed(0)\n",
        "    linear = Linear(2,3)\n",
        "    X,Y = super_simple_separable()\n",
        "    return linear.forward(X).tolist()\n",
        "\n",
        "expected_linear_forward = [[10.417500637754383, 6.911221682745654, 20.733665048236965, 22.891234399772113], [7.168722346625092, 3.489987464919749, 10.469962394759248, 9.998261102396512], [-2.071054548689073, 0.6941371647696142, 2.0824114943088414, 4.849668106971125]]\n",
        "print(\"Pass linear forward? \", np.allclose(nn_linear_forward(), expected_linear_forward))\n",
        "\n",
        "def nn_linear_forward_bias():\n",
        "    np.random.seed(0)\n",
        "    linear = Linear(2,3)\n",
        "    linear.W0 = np.array([[1],[1],[1]])\n",
        "    X,Y = super_simple_separable()\n",
        "    return linear.forward(X).tolist()\n",
        "\n",
        "expected_linear_forward_bias = [[11.417500637754383, 7.911221682745654, 21.733665048236965, 23.891234399772113], [8.168722346625092, 4.489987464919749, 11.469962394759248, 10.998261102396512], [-1.071054548689073, 1.6941371647696142, 3.0824114943088414, 5.849668106971125]]\n",
        "print(\"Pass linear forward bias? \", np.allclose(nn_linear_forward_bias(), expected_linear_forward_bias))\n",
        "\n"
      ],
      "execution_count": 3,
      "outputs": [
        {
          "output_type": "stream",
          "name": "stdout",
          "text": [
            "Pass linear forward?  True\n",
            "Pass linear forward bias?  True\n"
          ]
        }
      ]
    },
    {
      "cell_type": "code",
      "metadata": {
        "id": "S2oTBRYETrI_",
        "outputId": "8957771b-32bc-4b01-8a8e-f9e9521b4e0e",
        "colab": {
          "base_uri": "https://localhost:8080/"
        }
      },
      "source": [
        "def nn_linear_backward():\n",
        "    np.random.seed(0)\n",
        "    linear = Linear(2,3)\n",
        "    X,Y = super_simple_separable()\n",
        "    linear.forward(X)\n",
        "    dLdZ = np.array([[1, 1, 0, 0],\n",
        "                                     [2, 0, 1, 0],\n",
        "                                     [3, 0, 0, 1]])\n",
        "    return linear.backward(dLdZ).tolist()\n",
        "\n",
        "expected_linear_backward = [[3.889497924054116, 1.247373376201773, 0.2829538755771419, 0.6920722655660196], [2.1525571673658237, 1.5845507770701677, 1.3205629190941617, -0.6910398159642225]]\n",
        "print(\"Pass linear backward? \", np.allclose(nn_linear_backward(), expected_linear_backward))\n",
        "\n",
        "def nn_linear_backward_stored_dLdW_dLdW0():\n",
        "    np.random.seed(0)\n",
        "    linear = Linear(2,3)\n",
        "    X,Y = super_simple_separable()\n",
        "    linear.forward(X)\n",
        "    dLdZ = np.array([[1, 1, 0, 0],\n",
        "                                     [2, 0, 1, 0],\n",
        "                                     [3, 0, 0, 1]])\n",
        "    linear.backward(dLdZ)\n",
        "    return [linear.dLdW.tolist(), linear.dLdW0.tolist()]\n",
        "\n",
        "expected_linear_backward_stored = [[[5, 13, 18], [7, 16, 20]], [[2], [3], [4]]]\n",
        "print(\"Pass linear backward stored vals dLdW? \", np.allclose(nn_linear_backward_stored_dLdW_dLdW0()[0], expected_linear_backward_stored[0]))\n",
        "print(\"Pass linear backward stored vals dLdW0? \", np.allclose(nn_linear_backward_stored_dLdW_dLdW0()[1], expected_linear_backward_stored[1]))\n",
        "\n",
        "def nn_linear_sgd():\n",
        "    np.random.seed(0)\n",
        "    linear = Linear(2,3)\n",
        "    X,Y = super_simple_separable()\n",
        "    linear.forward(X)\n",
        "    dLdZ = np.array([[1, 1, 0, 0],\n",
        "                                     [2, 0, 1, 0],\n",
        "                                     [3, 0, 0, 1]])\n",
        "    linear.backward(dLdZ)\n",
        "    linear.sgd_step(0.005)\n",
        "    return [np.vstack([linear.W, linear.W0.T]).tolist()]\n",
        "\n",
        "expected_linear_sgd = [[[1.222373376201773, 0.2179538755771419, 0.6020722655660197], [1.5495507770701678, 1.2405629190941616, -0.7910398159642225], [-0.01, -0.015, -0.02]]]\n",
        "print(\"Pass linear sgd? \", np.allclose(nn_linear_sgd(), expected_linear_sgd))"
      ],
      "execution_count": 4,
      "outputs": [
        {
          "output_type": "stream",
          "name": "stdout",
          "text": [
            "Pass linear backward?  True\n",
            "Pass linear backward stored vals dLdW?  True\n",
            "Pass linear backward stored vals dLdW0?  True\n",
            "Pass linear sgd?  True\n"
          ]
        }
      ]
    },
    {
      "cell_type": "markdown",
      "metadata": {
        "id": "2ETL01mPsBz4"
      },
      "source": [
        "The following datasets are defined for your use:\n",
        "*  `super_simple_separable_through_origin()`\n",
        "*  `super_simple_separable()`\n",
        "*  `xor()`\n",
        "*  `xor_more()`\n",
        "*  `hard()`\n",
        "\n",
        "Further, a plotting function is defined for your usage in modules_disp.py, and can be called in the colab notebook as `disp.plot_nn()`.\n",
        "```\n",
        "def plot_nn(X, Y, nn):\n",
        "    \"\"\" Plot output of nn vs. data \"\"\"\n",
        "    def predict(x):\n",
        "        return nn.modules[-1].class_fun(nn.forward(x))[0]\n",
        "    xmin, ymin = np.min(X, axis=1)-1\n",
        "    xmax, ymax = np.max(X, axis=1)+1\n",
        "    nax = plot_objective_2d(lambda x: predict(x), xmin, xmax, ymin, ymax)\n",
        "    plot_data(X, Y, nax)\n",
        "    plt.show()```\n"
      ]
    },
    {
      "cell_type": "markdown",
      "metadata": {
        "id": "4s70beWJh09h"
      },
      "source": [
        "## Activation functions: ##\n",
        "Each activation module has a forward method that takes in a batch of pre-activations Z and returns a batch of activations A.\n",
        "\n",
        "Each activation module has a backward method that takes in dLdA and returns dLdZ, with the exception of SoftMax, where we assume dLdZ is passed in."
      ]
    },
    {
      "cell_type": "markdown",
      "metadata": {
        "id": "kwaNAtLnhenT"
      },
      "source": [
        "### Tanh: ###\n",
        "Please use np.tanh here. You can find documentation online.\n",
        "\n",
        "Hint: the derivative of $\\tanh$ is given by $\\frac{d\\tanh(z)}{d z} = 1 - \\tanh(z)^2$."
      ]
    },
    {
      "cell_type": "code",
      "metadata": {
        "id": "ff6eD3dnftiR"
      },
      "source": [
        "class Tanh(Module):            # Layer activation\n",
        "    def forward(self, Z):\n",
        "        self.A = np.tanh(Z)            # Your code\n",
        "        return self.A\n",
        "\n",
        "    def backward(self, dLdA):    # Uses stored self.A\n",
        "        return dLdA*(np.ones((self.A.shape))-self.A*self.A)\n",
        "        # Your code: return dLdZ\n",
        "    "
      ],
      "execution_count": 5,
      "outputs": []
    },
    {
      "cell_type": "markdown",
      "metadata": {
        "id": "Kpo88_6wQh0R"
      },
      "source": [
        "Tanh unit test:"
      ]
    },
    {
      "cell_type": "code",
      "metadata": {
        "id": "VZV85HbJQlhc",
        "outputId": "0d037cdc-5be4-47b3-ecd0-983933db2fea",
        "colab": {
          "base_uri": "https://localhost:8080/"
        }
      },
      "source": [
        "def nn_tanh_forward():\n",
        "    np.random.seed(0)\n",
        "    tanh = Tanh()\n",
        "    X,Y = super_simple_separable()\n",
        "    return tanh.forward(X).tolist()\n",
        "\n",
        "expected_tanh_forward = [[0.9640275800758169, 0.9950547536867305, 0.999999969540041, 0.9999999999244973], [0.9999092042625951, 0.9640275800758169, 0.9999877116507956, 0.9999092042625951]]\n",
        "print(\"Pass tanh forward? \", np.allclose(nn_tanh_forward(), expected_tanh_forward))\n",
        "\n",
        "def nn_tanh_backward():\n",
        "    np.random.seed(0)\n",
        "    tanh = Tanh()\n",
        "    X,Y = super_simple_separable()\n",
        "    tanh.forward(X)\n",
        "    dLdA = np.array([[1, 1, 0, 0],\n",
        "                                     [2, 0, 1, 0]])\n",
        "    return tanh.backward(dLdA).tolist()\n",
        "\n",
        "expected_tanh_backward = [[0.07065082485316443, 0.009866037165440211, 0.0, 0.0], [0.0003631664618877206, 0.0, 2.4576547405286142e-05, 0.0]]\n",
        "print(\"Pass tanh backward? \", np.allclose(nn_tanh_backward(), expected_tanh_backward))"
      ],
      "execution_count": 6,
      "outputs": [
        {
          "output_type": "stream",
          "name": "stdout",
          "text": [
            "Pass tanh forward?  True\n",
            "Pass tanh backward?  True\n"
          ]
        }
      ]
    },
    {
      "cell_type": "markdown",
      "metadata": {
        "id": "2FW7ocKRhcgY"
      },
      "source": [
        "### ReLU: ###\n",
        "Hint:\n",
        "[`np.maximum`](https://docs.scipy.org/doc/numpy/reference/generated/numpy.maximum.html) might be useful."
      ]
    },
    {
      "cell_type": "code",
      "metadata": {
        "id": "1fm2KsLUfqdp"
      },
      "source": [
        "class ReLU(Module):              # Layer activation\n",
        "    def forward(self, Z):\n",
        "        self.A = np.maximum(0,Z)            # Your code\n",
        "        return self.A\n",
        "\n",
        "    def backward(self, dLdA):    # uses stored self.A\n",
        "        return dLdA*(self.A/self.A)              # Your code: return dLdZ\n",
        "               # Your code: return dLdZ (?, b)"
      ],
      "execution_count": 7,
      "outputs": []
    },
    {
      "cell_type": "markdown",
      "metadata": {
        "id": "xMxtp-BJRyus"
      },
      "source": [
        "ReLU unit tests:"
      ]
    },
    {
      "cell_type": "code",
      "metadata": {
        "id": "b9NDufA7R16i",
        "outputId": "aae33be2-2cab-4238-e46d-59645a19ff50",
        "colab": {
          "base_uri": "https://localhost:8080/"
        }
      },
      "source": [
        "def nn_relu_forward():\n",
        "    np.random.seed(0)\n",
        "    relu = ReLU()\n",
        "    X,Y = super_simple_separable()\n",
        "    return relu.forward(X).tolist()\n",
        "\n",
        "expected_relu_forward = [[2, 3, 9, 12], [5, 2, 6, 5]]\n",
        "print(\"Pass relu forward? \", np.allclose(nn_relu_forward(), expected_relu_forward))\n",
        "\n",
        "def nn_relu_backward():\n",
        "    np.random.seed(0)\n",
        "    relu = ReLU()\n",
        "    X,Y = super_simple_separable()\n",
        "    relu.forward(X)\n",
        "    dLdA = np.array([[1, 1, 0, 0],\n",
        "                                     [2, 0, 1, 0]])\n",
        "    return relu.backward(dLdA).tolist()\n",
        "\n",
        "expected_relu_backward = [[1, 1, 0, 0], [2, 0, 1, 0]]\n",
        "print(\"Pass relu backward? \", np.allclose(nn_relu_backward(), expected_relu_backward))\n"
      ],
      "execution_count": 8,
      "outputs": [
        {
          "output_type": "stream",
          "name": "stdout",
          "text": [
            "Pass relu forward?  True\n",
            "Pass relu backward?  True\n"
          ]
        }
      ]
    },
    {
      "cell_type": "markdown",
      "metadata": {
        "id": "ZKtXuTQ0hSNO"
      },
      "source": [
        "###SoftMax: ###\n",
        "For `SoftMax.class_fun()`, given the column vector of class probabilities for each point (computed by Softmax), return a vector of the classes (integers) with the highest probability for each point. The output should be a 1D numpy array. "
      ]
    },
    {
      "cell_type": "code",
      "metadata": {
        "id": "fqK-CJrnfn22"
      },
      "source": [
        "class SoftMax(Module):           # Output activation\n",
        "    def forward(self, Z):\n",
        "        Z_e = np.exp(Z)\n",
        "        e_sum = np.sum(Z_e, axis=0)\n",
        "        return Z_e/e_sum\n",
        "\n",
        "    def backward(self, dLdZ):    # Assume that dLdZ is passed in\n",
        "        return dLdZ\n",
        "\n",
        "    def class_fun(self, Ypred):  \n",
        "        # Returns the index of the most likely class for each point as vector of shape (b,)\n",
        "        return np.argmax(Ypred, axis=0) # Your code             # Your code: A 1D vector (b, ) "
      ],
      "execution_count": 9,
      "outputs": []
    },
    {
      "cell_type": "markdown",
      "metadata": {
        "id": "7DrQDUepW5gd"
      },
      "source": [
        "Test cases for softmax:"
      ]
    },
    {
      "cell_type": "code",
      "metadata": {
        "id": "S-7HrY_4W7yW",
        "outputId": "0bd30371-962f-4a9e-c94d-fe607b5ec035",
        "colab": {
          "base_uri": "https://localhost:8080/"
        }
      },
      "source": [
        "def nn_softmax_forward():\n",
        "    np.random.seed(0)\n",
        "    softmax = SoftMax()\n",
        "    X,Y = super_simple_separable()\n",
        "    return softmax.forward(X).tolist()\n",
        "\n",
        "expected_softmax_forward = [[0.04742587317756679, 0.7310585786300048, 0.9525741268224334, 0.9990889488055993], [0.9525741268224333, 0.2689414213699951, 0.04742587317756678, 0.0009110511944006454]]\n",
        "print(\"Pass softmax forward? \", np.allclose(nn_softmax_forward(), expected_softmax_forward))\n",
        "  \n",
        "def nn_softmax_class_fun():\n",
        "    np.random.seed(0)\n",
        "    softmax = SoftMax()\n",
        "    X,Y = super_simple_separable()\n",
        "    Ypred = softmax.forward(X)\n",
        "    return softmax.class_fun(Ypred).tolist()\n",
        "\n",
        "expected_softmax_class_fun = [1, 0, 0, 0]\n",
        "print(\"Pass softmax class fun? \", np.allclose(nn_softmax_class_fun(), expected_softmax_class_fun))"
      ],
      "execution_count": 10,
      "outputs": [
        {
          "output_type": "stream",
          "name": "stdout",
          "text": [
            "Pass softmax forward?  True\n",
            "Pass softmax class fun?  True\n"
          ]
        }
      ]
    },
    {
      "cell_type": "markdown",
      "metadata": {
        "id": "CZc7HnMSh4fn"
      },
      "source": [
        "## Loss Functions:##\n",
        "Each loss module has a forward method that takes in a batch of predictions Ypred (from the previous layer) and labels Y and returns a scalar loss value. Each column of Y will correspond to a one-hot vector encoding the correct class label for one point in our batch. \n",
        "\n",
        "The NLL module has a backward method that returns dLdZ, the gradient with respect to the preactivation to SoftMax (note: not the activation!), since we are always pairing SoftMax activation with NLL loss."
      ]
    },
    {
      "cell_type": "markdown",
      "metadata": {
        "id": "l4uy0pHVhNd8"
      },
      "source": [
        "### NLL: ###\n",
        "You should use multi-class NLL. \n",
        "\n",
        "Hint: $$\\frac{dNLL(Softmax(z))}{dz} = Y_{pred} - Y$$\n",
        "\n",
        "As an exercise, try proving that this is true."
      ]
    },
    {
      "cell_type": "code",
      "metadata": {
        "id": "17Fb8mimflgb"
      },
      "source": [
        "class NLL(Module):       # Loss\n",
        "    def forward(self, Ypred, Y):\n",
        "        # returns loss as a float\n",
        "        self.Ypred = Ypred\n",
        "        self.Y = Y\n",
        "        return -np.sum(Y*np.log(Ypred))      # Your code\n",
        "\n",
        "    def backward(self):  # Use stored self.Ypred, self.Y\n",
        "        # note, this is the derivative of loss with respect to the input of softmax\n",
        "        return self.Ypred-self.Y      # Your code"
      ],
      "execution_count": 11,
      "outputs": []
    },
    {
      "cell_type": "markdown",
      "metadata": {
        "id": "fhL4QL5xYqYe"
      },
      "source": [
        "NLL Test Cases:"
      ]
    },
    {
      "cell_type": "code",
      "metadata": {
        "id": "aB6Y0Tl5Ys7v",
        "outputId": "f9f5aac5-040d-447f-9663-124b22ae49e5",
        "colab": {
          "base_uri": "https://localhost:8080/"
        }
      },
      "source": [
        "def nn_nll_forward():\n",
        "    nll = NLL()\n",
        "    y = np.array([[1, 0, 1, 0]])\n",
        "    Y = for_softmax(y)\n",
        "    ypred = np.array([[.7, .3, .99, .99]])\n",
        "    Ypred = for_softmax(ypred)\n",
        "    return nll.forward(Ypred, Y)\n",
        "\n",
        "expected_nll_forward = 5.328570409719057\n",
        "print(\"Pass nll forward? \", np.allclose(nn_nll_forward(), expected_nll_forward))\n",
        "\n",
        "def nn_nll_backward():\n",
        "    nll = NLL()\n",
        "    y = np.array([[1, 0, 1, 0]])\n",
        "    Y = for_softmax(y)\n",
        "    ypred = np.array([[.7, .3, .99, .99]])\n",
        "    Ypred = for_softmax(ypred)\n",
        "    nll.forward(Ypred, Y)\n",
        "    return nll.backward().tolist()\n",
        "\n",
        "expected_nll_backward = [[0.30000000000000004, -0.30000000000000004, 0.010000000000000009, -0.99], [-0.30000000000000004, 0.3, -0.010000000000000009, 0.99]]\n",
        "print(\"Pass nll backward? \", np.allclose(nn_nll_backward(), expected_nll_backward))"
      ],
      "execution_count": 12,
      "outputs": [
        {
          "output_type": "stream",
          "name": "stdout",
          "text": [
            "Pass nll forward?  True\n",
            "Pass nll backward?  True\n"
          ]
        }
      ]
    },
    {
      "cell_type": "markdown",
      "metadata": {
        "id": "y1EffzDFkqMX"
      },
      "source": [
        "## Activation and Loss Test Cases: ##\n",
        "Run Test 1 and Test 2 below and compare your outputs with the expected outputs.\n"
      ]
    },
    {
      "cell_type": "code",
      "metadata": {
        "id": "9DJFzpahkvcD",
        "outputId": "66291954-83e5-4007-a58d-d2e5ab5729e8",
        "colab": {
          "base_uri": "https://localhost:8080/"
        }
      },
      "source": [
        "# TEST 1: sgd_test for Tanh activation and SoftMax output\n",
        "np.random.seed(0)\n",
        "sgd_test(Sequential([Linear(2,3), Tanh(), Linear(3,2), SoftMax()], NLL()), test_1_values)"
      ],
      "execution_count": 13,
      "outputs": [
        {
          "output_type": "stream",
          "name": "stdout",
          "text": [
            "linear_1.W: OK\n",
            "linear_1.W0: OK\n",
            "linear_2.W: OK\n",
            "linear_2.W0: OK\n",
            "z_1: OK\n",
            "a_1: OK\n",
            "z_2: OK\n",
            "a_2: OK\n",
            "loss: OK\n",
            "dloss: OK\n",
            "dL_dz2: OK\n",
            "dL_da1: OK\n",
            "dL_dz1: OK\n",
            "dL_dX: OK\n",
            "updated_linear_1.W: OK\n",
            "updated_linear_1.W0: OK\n",
            "updated_linear_2.W: OK\n",
            "updated_linear_2.W0: OK\n"
          ]
        }
      ]
    },
    {
      "cell_type": "code",
      "metadata": {
        "id": "Bd0dXg-Qk05_",
        "outputId": "83ffae00-27a1-4320-c121-1b4a634397ab",
        "colab": {
          "base_uri": "https://localhost:8080/"
        }
      },
      "source": [
        "# TEST 2: sgd_test for ReLU activation and SoftMax output\n",
        "np.random.seed(0)\n",
        "sgd_test(Sequential([Linear(2,3), ReLU(), Linear(3,2), SoftMax()], NLL()), test_2_values)"
      ],
      "execution_count": 14,
      "outputs": [
        {
          "output_type": "stream",
          "name": "stdout",
          "text": [
            "linear_1.W: OK\n",
            "linear_1.W0: OK\n",
            "linear_2.W: OK\n",
            "linear_2.W0: OK\n",
            "z_1: OK\n",
            "a_1: OK\n",
            "z_2: OK\n",
            "a_2: OK\n",
            "loss: OK\n",
            "dloss: OK\n",
            "dL_dz2: OK\n",
            "dL_da1: OK\n",
            "dL_dz1: FAILED\n",
            "expected: [[ 6.28919807e-01 -3.52832568e-02  6.35791049e-01 -2.30458563e-04]\n",
            " [-2.93387075e-01  1.64594141e-02 -2.96592466e-01  1.07507449e-04]\n",
            " [-0.00000000e+00  4.19713676e-02 -7.56308297e-01  2.74143091e-04]]\n",
            "but was: [[ 6.28919807e-01 -3.52832568e-02  6.35791049e-01 -2.30458563e-04]\n",
            " [-2.93387075e-01  1.64594141e-02 -2.96592466e-01  1.07507449e-04]\n",
            " [            nan  4.19713676e-02 -7.56308297e-01  2.74143091e-04]]\n",
            "dL_dX: FAILED\n",
            "expected: [[ 7.01482813e-01 -1.03069207e-02  1.85726843e-01 -6.73213966e-05]\n",
            " [ 6.09119276e-01 -6.31763062e-02  1.13841333e+00 -4.12646736e-04]]\n",
            "but was: [[            nan -1.03069207e-02  1.85726843e-01 -6.73213966e-05]\n",
            " [            nan -6.31763062e-02  1.13841333e+00 -4.12646736e-04]]\n",
            "updated_linear_1.W: FAILED\n",
            "expected: [[ 1.21301666  0.29898107  0.72546012]\n",
            " [ 1.55011264  1.33662809 -0.66877713]]\n",
            "but was: [[1.21301666 0.29898107        nan]\n",
            " [1.55011264 1.33662809        nan]]\n",
            "updated_linear_1.W0: FAILED\n",
            "expected: [[-0.00614599]\n",
            " [ 0.00286706]\n",
            " [ 0.00357031]]\n",
            "but was: [[-0.00614599]\n",
            " [ 0.00286706]\n",
            " [        nan]]\n",
            "updated_linear_2.W: OK\n",
            "updated_linear_2.W0: OK\n"
          ]
        },
        {
          "output_type": "stream",
          "name": "stderr",
          "text": [
            "/usr/local/lib/python3.7/dist-packages/ipykernel_launcher.py:7: RuntimeWarning: invalid value encountered in true_divide\n",
            "  import sys\n"
          ]
        }
      ]
    },
    {
      "cell_type": "markdown",
      "metadata": {
        "id": "-l5JgBU2iBCZ"
      },
      "source": [
        "## Neural Network: ##"
      ]
    },
    {
      "cell_type": "markdown",
      "metadata": {
        "id": "eXMGcdnXgiF3"
      },
      "source": [
        "Implement SGD. Randomly pick a data point Xt, Yt by using np.random.randint to choose a random index into the data. Compute the predicted output Ypred for Xt with the forward method. Compute the loss for Ypred relative to Yt. Use the backward method to compute the gradients. Use the sgd_step method to change the weights. Repeat.\n",
        "\n",
        "Hint: First call `Sequential.loss.backward()` to get dLdZ (in the case of the NLL loss function) before calling `Sequential.backward` with dLdZ as your input to propagate the loss backward through the layers."
      ]
    },
    {
      "cell_type": "code",
      "metadata": {
        "id": "ejO15Vr7fhKB"
      },
      "source": [
        " class Sequential:\n",
        "    def __init__(self, modules, loss):            # List of modules, loss module\n",
        "        self.modules = modules\n",
        "        self.loss = loss\n",
        "\n",
        "    def sgd(self, X, Y, iters=100, lrate=0.005):  # Train\n",
        "        D, N = X.shape\n",
        "        sum_loss = 0\n",
        "        for it in range(iters):\n",
        "            n = np.random.randint(N)\n",
        "            Xt = X[:, n:n+1]\n",
        "            Yt = Y[:, n:n+1]\n",
        "            Ypred = self.forward(Xt)\n",
        "            sum_loss += self.loss.forward(Ypred,Yt)\n",
        "            b = self.loss.backward()\n",
        "            self.backward(b)\n",
        "            self.sgd_step(lrate)\n",
        "\n",
        "    def forward(self, Xt):                        # Compute Ypred\n",
        "        for m in self.modules: Xt = m.forward(Xt)\n",
        "        return Xt\n",
        "\n",
        "    def backward(self, delta):                    # Update dLdW and dLdW0\n",
        "        # Note reversed list of modules\n",
        "        for m in self.modules[::-1]: delta = m.backward(delta)\n",
        "\n",
        "    def sgd_step(self, lrate):                    # Gradient descent step\n",
        "        for m in self.modules: m.sgd_step(lrate)\n",
        "\n",
        "    def print_accuracy(self, it, X, Y, cur_loss, every=250):\n",
        "        # Utility method to print accuracy on full dataset, should\n",
        "        # improve over time when doing SGD. Also prints current loss,\n",
        "        # which should decrease over time. Call this on each iteration\n",
        "        # of SGD!\n",
        "        if it % every == 1:\n",
        "            cf = self.modules[-1].class_fun\n",
        "            acc = np.mean(cf(self.forward(X)) == cf(Y))\n",
        "            print('Iteration =', it, '\tAcc =', acc, '\tLoss =', cur_loss)\n"
      ],
      "execution_count": 15,
      "outputs": []
    },
    {
      "cell_type": "markdown",
      "metadata": {
        "id": "HUojaXqphDjh"
      },
      "source": [
        "## Neural Network / SGD Test Cases: ##\n",
        "Use Test 3 to help you debug."
      ]
    },
    {
      "cell_type": "code",
      "metadata": {
        "id": "MaWfgC7Qe3ar"
      },
      "source": [
        "# TEST 3: try calling these methods that train with a simple dataset\n",
        "def nn_tanh_test():\n",
        "    np.random.seed(0)\n",
        "    nn = Sequential([Linear(2, 3), Tanh(), Linear(3, 2), SoftMax()], NLL())\n",
        "    X, Y = super_simple_separable()\n",
        "    nn.sgd(X, Y, iters=1, lrate=0.005)\n",
        "    return [np.vstack([nn.modules[0].W, nn.modules[0].W0.T]).tolist(),\n",
        "            np.vstack([nn.modules[2].W, nn.modules[2].W0.T]).tolist()]\n",
        "\n",
        "\n",
        "def nn_relu_test():\n",
        "    np.random.seed(0)\n",
        "    nn = Sequential([Linear(2, 3), ReLU(), Linear(3, 2), SoftMax()], NLL())\n",
        "    X, Y = super_simple_separable()\n",
        "    nn.sgd(X, Y, iters=2, lrate=0.005)\n",
        "    return [np.vstack([nn.modules[0].W, nn.modules[0].W0.T]).tolist(),\n",
        "            np.vstack([nn.modules[2].W, nn.modules[2].W0.T]).tolist()]\n",
        "\n",
        "\n",
        "def nn_pred_test():\n",
        "    np.random.seed(0)\n",
        "    nn = Sequential([Linear(2, 3), ReLU(), Linear(3, 2), SoftMax()], NLL())\n",
        "    X, Y = super_simple_separable()\n",
        "    nn.sgd(X, Y, iters=1, lrate=0.005)\n",
        "    Ypred = nn.forward(X)\n",
        "    return nn.modules[-1].class_fun(Ypred).tolist(), [nn.loss.forward(Ypred, Y)]\n"
      ],
      "execution_count": 16,
      "outputs": []
    },
    {
      "cell_type": "code",
      "metadata": {
        "id": "_dx-zM2y3R0z",
        "outputId": "e2dcec96-68e9-4e73-e374-0b6959251e0d",
        "colab": {
          "base_uri": "https://localhost:8080/"
        }
      },
      "source": [
        "nn_tanh_test()\n",
        "\n",
        "# Expected output:\n",
        "# '''\n",
        "# [[[1.2473733761848262, 0.2829538808226157, 0.6924193292712828],\n",
        "#   [1.5845507770278007, 1.320562932207846, -0.6901721567010647],\n",
        "#   [-8.47337764291184e-12, 2.6227368810847106e-09, 0.00017353185263155828]],\n",
        "#  [[0.544808855557535, -0.08366117689965663],\n",
        "#   [-0.06331837550937104, 0.24078409926389266],\n",
        "#   [0.08677202043839037, 0.8360167748667923],\n",
        "#   [-0.0037249480614718, 0.0037249480614718]]]\n",
        "# '''"
      ],
      "execution_count": 17,
      "outputs": [
        {
          "output_type": "execute_result",
          "data": {
            "text/plain": [
              "[[[1.2473733761848262, 0.2829538808226157, 0.6924193292712828],\n",
              "  [1.5845507770278007, 1.320562932207846, -0.6901721567010647],\n",
              "  [-8.47337764291184e-12, 2.6227368810847102e-09, 0.00017353185263155828]],\n",
              " [[0.544808855557535, -0.08366117689965663],\n",
              "  [-0.06331837550937103, 0.24078409926389266],\n",
              "  [0.08677202043839037, 0.8360167748667923],\n",
              "  [-0.0037249480614717995, 0.0037249480614718]]]"
            ]
          },
          "metadata": {},
          "execution_count": 17
        }
      ]
    },
    {
      "cell_type": "code",
      "metadata": {
        "id": "WmYT9IWk3TQL",
        "outputId": "da2898de-43b4-4900-ce20-39f61555c2c0",
        "colab": {
          "base_uri": "https://localhost:8080/"
        }
      },
      "source": [
        "nn_relu_test()\n",
        "\n",
        "# Expected output:\n",
        "# '''\n",
        "# [[[1.2421914999646917, 0.2851239946607419, 0.6905003767490479],\n",
        "#   [1.5695659964519526, 1.3273884281993562, -0.6920877418422037],\n",
        "#   [-0.0027754917572235106, 0.001212351486908601, -0.0005239629389906042]],\n",
        "#  [[0.501769700845158, -0.040622022187279644],\n",
        "#   [-0.09260786974986723, 0.27007359350438886],\n",
        "#   [0.08364438851530624, 0.8391444067898763],\n",
        "#   [-0.004252310922204504, 0.004252310922204505]]]\n",
        "# '''"
      ],
      "execution_count": 18,
      "outputs": [
        {
          "output_type": "stream",
          "name": "stderr",
          "text": [
            "/usr/local/lib/python3.7/dist-packages/ipykernel_launcher.py:7: RuntimeWarning: invalid value encountered in true_divide\n",
            "  import sys\n"
          ]
        },
        {
          "output_type": "execute_result",
          "data": {
            "text/plain": [
              "[[[nan, nan, nan], [nan, nan, nan], [nan, nan, nan]],\n",
              " [[nan, nan], [nan, nan], [nan, nan], [nan, nan]]]"
            ]
          },
          "metadata": {},
          "execution_count": 18
        }
      ]
    },
    {
      "cell_type": "code",
      "metadata": {
        "id": "uo_woDFh3a2v",
        "outputId": "6fe9b487-c86a-4943-aea1-08e89ecda714",
        "colab": {
          "base_uri": "https://localhost:8080/"
        }
      },
      "source": [
        "nn_pred_test()\n",
        "\n",
        "# Expected output:\n",
        "# '''\n",
        "# ([0, 0, 0, 0], [8.56575061835767])\n",
        "# '''"
      ],
      "execution_count": 19,
      "outputs": [
        {
          "output_type": "stream",
          "name": "stderr",
          "text": [
            "/usr/local/lib/python3.7/dist-packages/ipykernel_launcher.py:7: RuntimeWarning: invalid value encountered in true_divide\n",
            "  import sys\n"
          ]
        },
        {
          "output_type": "execute_result",
          "data": {
            "text/plain": [
              "([0, 0, 0, 0], [nan])"
            ]
          },
          "metadata": {},
          "execution_count": 19
        }
      ]
    },
    {
      "cell_type": "markdown",
      "metadata": {
        "id": "lFlhjv355h2X"
      },
      "source": [
        "# 3) 2D Datasets\n",
        "\n",
        "For the 2D datasets, we have provided the following function:\n",
        "\n",
        ">```run_pytorch_2d(data_name, layers, epochs, split=0.25, display=True, trials=5)```\n",
        "\n",
        "where:\n",
        "\n",
        "* `data_name` is a string, such as '1', '2', etc. \n",
        "* `layers` is a list of torch.nn layer definitions for a Sequential model, e.g.\n",
        "> ```[nn.Linear(in_features=2, out_features=classes, bias=True), nn.Softmax(dim=-1)]```\n",
        "* `epochs` is an integer indicating how many times to go through the data in training \n",
        "* `split` is a fraction of the training data to use for validation if a validation set is not defined \n",
        "* `display` whether to display result plots \n",
        "* `verbose` whether to print loss and accuracy (percent correctly labeled) each epoch \n",
        "* `trials` is an integer indicating how many times to perform the training and testing \n",
        "\n",
        "The two-class datasets have `data_name`s: `'1'`,`'2'`,`'3'`,`'4'`.\n",
        "\n",
        "In this problem, try the following 5 architectures, specified by the number of units in the hidden layers:\n",
        "\n",
        "`0: (), 1: (10), 2: (100), 3: (100, 10), 4: (100, 100)`\n",
        "\n",
        "You may find the `archs` function below to be helpful here. Some of these questions ask for the \"simplest\" architecture; the list above is ordered starting with the simplest."
      ]
    },
    {
      "cell_type": "code",
      "metadata": {
        "id": "8iMmC7xfKF9g"
      },
      "source": [
        "from utils_hw7 import plot_heat, get_data_loader, model_fit, model_evaluate, run_pytorch, dataset_paths"
      ],
      "execution_count": 20,
      "outputs": []
    },
    {
      "cell_type": "code",
      "metadata": {
        "id": "ElI3B4_sKG0W"
      },
      "source": [
        "import numpy as np\n",
        "import itertools\n",
        "import math as m\n",
        "from matplotlib import pyplot as plt\n",
        "\n",
        "import torch\n",
        "import torch.nn as nn\n",
        "from torch.optim import Adam\n",
        "from torch.utils.data import DataLoader, TensorDataset"
      ],
      "execution_count": 21,
      "outputs": []
    },
    {
      "cell_type": "code",
      "metadata": {
        "id": "RLffruWVKLDj"
      },
      "source": [
        "######################################################################\n",
        "# Problem 3 - 2D data\n",
        "######################################################################\n",
        "\n",
        "def archs(classes):\n",
        "    # param: classes (int) determines the size of the pre-activations before they go into softmax.\n",
        "    # return: (dict) a dictionary mapping integers 0-4 to architectures with increasing complexity.\n",
        "    return {0: [\n",
        "                nn.Linear(in_features=2, out_features=classes, bias=True),\n",
        "            ],\n",
        "            1: [\n",
        "                nn.Linear(in_features=2, out_features=10, bias=True),\n",
        "                nn.ReLU(),\n",
        "                nn.Linear(in_features=10, out_features=classes, bias=True),\n",
        "            ],\n",
        "            2: [\n",
        "                nn.Linear(in_features=2, out_features=100, bias=True),\n",
        "                nn.ReLU(),\n",
        "                nn.Linear(in_features=100, out_features=classes, bias=True),\n",
        "            ],\n",
        "            3: [\n",
        "                nn.Linear(in_features=2, out_features=100, bias=True),\n",
        "                nn.ReLU(),\n",
        "                nn.Linear(in_features=100, out_features=10, bias=True),\n",
        "                nn.ReLU(),\n",
        "                nn.Linear(in_features=10, out_features=classes, bias=True),\n",
        "            ],\n",
        "            4: [\n",
        "                nn.Linear(in_features=2, out_features=100, bias=True),\n",
        "                nn.ReLU(),\n",
        "                nn.Linear(in_features=100, out_features=100, bias=True),\n",
        "                nn.ReLU(),\n",
        "                nn.Linear(in_features=100, out_features=classes, bias=True),\n",
        "            ]\n",
        "           }"
      ],
      "execution_count": 22,
      "outputs": []
    },
    {
      "cell_type": "code",
      "metadata": {
        "id": "EL2kJwL6Kp6I"
      },
      "source": [
        "\"\"\"\n",
        "This function is also in utils_hw7.\n",
        "We write it here just to bring it to your attention.\n",
        "Please try to go through it.\n",
        "\"\"\"\n",
        "\n",
        "def call_model(mode, model, data_iter, optimizer, criterion):\n",
        "    epoch_loss = []\n",
        "    hits = []\n",
        "    items = []\n",
        "    \n",
        "    if mode == 'train':\n",
        "        model.train()\n",
        "        grad_mode = torch.enable_grad()\n",
        "    else:\n",
        "        model.eval()\n",
        "        grad_mode = torch.no_grad()\n",
        "\n",
        "    with grad_mode:\n",
        "\n",
        "        for batch in data_iter:\n",
        "            X, y = batch.X, batch.y\n",
        "\n",
        "            if mode == 'train':\n",
        "                # zero the parameter gradients\n",
        "                optimizer.zero_grad()\n",
        "\n",
        "            # forward\n",
        "            y_hat = model(X)\n",
        "            batch_loss = criterion(y_hat, y.long())\n",
        "\n",
        "            if mode == 'train':\n",
        "                # backward + optimize\n",
        "                batch_loss.backward()\n",
        "                optimizer.step()\n",
        "\n",
        "            epoch_loss.append(batch_loss.item())\n",
        "            hits.append((y_hat.argmax(1) == y).sum())\n",
        "            items.append(X.shape[0])\n",
        "\n",
        "        loss = np.sum(epoch_loss)/np.sum(items)\n",
        "        acc_score = np.sum(hits)/np.sum(items)\n",
        "        return loss, acc_score"
      ],
      "execution_count": 23,
      "outputs": []
    },
    {
      "cell_type": "code",
      "metadata": {
        "id": "ZNZeHqq9Kr2g"
      },
      "source": [
        "\"\"\"\n",
        "This function is also in utils_hw7.\n",
        "We write it here just to bring it to your attention because\n",
        "you'll be running (but not modifying) this function for this\n",
        "homework.\n",
        "Please try to go through it.\n",
        "\"\"\"\n",
        "\n",
        "def run_pytorch_2d(data_name, layers, epochs, split=0.25, display=True,\n",
        "                   verbose=True, trials=1, batch_size=32):\n",
        "    print('Pytorch FC: dataset=', data_name)\n",
        "    (train_dataset_path, val_dataset_path, test_dataset_path) = dataset_paths(data_name)\n",
        "    # Load the datasets\n",
        "    train_iter, num_classes = get_data_loader(train_dataset_path, batch_size)\n",
        "    val_iter, num_classes = get_data_loader(val_dataset_path, batch_size)\n",
        "    test_iter, num_classes = get_data_loader(test_dataset_path, batch_size)\n",
        "    \n",
        "    if val_iter is None:\n",
        "        # Use split\n",
        "        print(\"Use split\", train_iter)\n",
        "        assert split > 0, '`split` must be > 0'\n",
        "        train_iter, val_iter,  num_classes = get_data_loader(train_dataset_path, batch_size, split)\n",
        "\n",
        "    val_acc, test_acc = 0, 0\n",
        "    X_train = torch.cat([batch.X for batch in train_iter], 0)\n",
        "    y_train = torch.cat([batch.y for batch in train_iter], 0)\n",
        "    \n",
        "    for trial in range(trials):\n",
        "        trial_history = {'epoch_loss': [], 'epoch_val_loss': [],\n",
        "               'epoch_acc': [], 'epoch_val_acc': []}\n",
        "    \n",
        "        if verbose: print(\"\\n\")\n",
        "        print(f'# Trial {trial}')\n",
        "        \n",
        "        # Run the model\n",
        "        model, vacc, tacc, = run_pytorch(train_iter, val_iter, test_iter, \n",
        "                                         layers, epochs, split=split,\n",
        "                                         verbose=verbose, history=trial_history)\n",
        "\n",
        "        val_acc += vacc if vacc else 0\n",
        "        test_acc += tacc if tacc else 0\n",
        "        if display:\n",
        "            # plot classifier landscape on training data\n",
        "            plot_heat(X_train, y_train, model)\n",
        "            plt.title('Training data')\n",
        "            plt.show()\n",
        "            if test_iter is not None:\n",
        "                # plot classifier landscape on testing data\n",
        "                X_test = torch.cat([batch.X for batch in test_iter], 0)\n",
        "                y_test = torch.cat([batch.y for batch in test_iter], 0)\n",
        "                plot_heat(X_test, y_test, model)\n",
        "                plt.title('Testing data')\n",
        "                plt.show()\n",
        "            # Plot epoch loss\n",
        "            plt.figure(facecolor=\"white\")\n",
        "            plt.plot(range(epochs), trial_history['epoch_loss'], label='epoch_train_loss')\n",
        "            plt.plot(range(epochs), trial_history['epoch_val_loss'], label='epoch_val_loss')\n",
        "            plt.xlabel('epoch')\n",
        "            plt.ylabel('loss')\n",
        "            plt.title('Epoch val_loss and loss')\n",
        "            plt.legend()\n",
        "            plt.show()\n",
        "            # Plot epoch accuracy\n",
        "            plt.figure(facecolor=\"white\")\n",
        "            plt.plot(range(epochs), trial_history['epoch_acc'], label='epoch_train_acc')\n",
        "            plt.plot(range(epochs), trial_history['epoch_val_acc'], label='epoch_val_acc')\n",
        "            plt.xlabel('epoch')\n",
        "            plt.ylabel('accuracy')\n",
        "            plt.legend()\n",
        "            plt.title('Epoch val_acc and acc')\n",
        "            plt.show()\n",
        "    if val_acc:\n",
        "        print (\"\\nAvg. validation accuracy:\"  + str(val_acc/trials))\n",
        "    if test_acc:\n",
        "        print (\"\\nAvg. test accuracy:\"  + str(test_acc/trials))\n",
        "        \n",
        "   \n",
        "    return X_train, y_train, model"
      ],
      "execution_count": 24,
      "outputs": []
    },
    {
      "cell_type": "markdown",
      "metadata": {
        "id": "J702dGo0Kvou"
      },
      "source": [
        "## 3A-D)\n",
        "Here are some examples of how you can run the pytorch functions. You'll need to write your own code to run the experiments in parts A-D."
      ]
    },
    {
      "cell_type": "code",
      "metadata": {
        "id": "rCD9pEgGKtj3",
        "outputId": "55ed42be-a18d-4f46-df28-6d6ba45e7bcb",
        "colab": {
          "base_uri": "https://localhost:8080/",
          "height": 1000
        }
      },
      "source": [
        "layer_dict = archs(2) # implies we have 2 classification classes\n",
        "layers = layer_dict[0] # using architecture 0\n",
        "\n",
        "# this will train on dataset \"1\"\n",
        "X_train, y_train, model = run_pytorch_2d(\"1\", layers, epochs=10, trials = 1, verbose=True, display=True)"
      ],
      "execution_count": 25,
      "outputs": [
        {
          "output_type": "stream",
          "name": "stdout",
          "text": [
            "Pytorch FC: dataset= 1\n",
            "Convert from -1,1 to 0,1\n",
            "Loading X torch.Size([400, 2]) y torch.Size([400]) classes {0.0, 1.0}\n",
            "Convert from -1,1 to 0,1\n",
            "Loading X torch.Size([200, 2]) y torch.Size([200]) classes {0.0, 1.0}\n",
            "\n",
            "\n",
            "# Trial 0\n",
            "epoch: 0 | TRAIN: loss 0.03647 acc 0.055 | VALI: loss 0.03903 acc 0.05\n",
            "epoch: 1 | TRAIN: loss 0.03531 acc 0.0575 | VALI: loss 0.03776 acc 0.05\n",
            "epoch: 2 | TRAIN: loss 0.03418 acc 0.06 | VALI: loss 0.03652 acc 0.05\n",
            "epoch: 3 | TRAIN: loss 0.03307 acc 0.0625 | VALI: loss 0.03532 acc 0.055\n",
            "epoch: 4 | TRAIN: loss 0.03201 acc 0.0675 | VALI: loss 0.03416 acc 0.055\n",
            "epoch: 5 | TRAIN: loss 0.03097 acc 0.07 | VALI: loss 0.03303 acc 0.06\n",
            "epoch: 6 | TRAIN: loss 0.02997 acc 0.075 | VALI: loss 0.03194 acc 0.07\n",
            "epoch: 7 | TRAIN: loss 0.029 acc 0.0925 | VALI: loss 0.03089 acc 0.09\n",
            "epoch: 8 | TRAIN: loss 0.02806 acc 0.1075 | VALI: loss 0.02987 acc 0.125\n",
            "epoch: 9 | TRAIN: loss 0.02716 acc 0.1375 | VALI: loss 0.0289 acc 0.155\n",
            "\n"
          ]
        },
        {
          "output_type": "display_data",
          "data": {
            "image/png": "[encoded data removed]",
            "text/plain": [
              "<Figure size 432x288 with 2 Axes>"
            ]
          },
          "metadata": {}
        },
        {
          "output_type": "display_data",
          "data": {
            "image/png": "[encoded data removed]",
            "text/plain": [
              "<Figure size 432x288 with 1 Axes>"
            ]
          },
          "metadata": {}
        },
        {
          "output_type": "display_data",
          "data": {
            "image/png": "[encoded data removed]",
            "text/plain": [
              "<Figure size 432x288 with 1 Axes>"
            ]
          },
          "metadata": {}
        },
        {
          "output_type": "stream",
          "name": "stdout",
          "text": [
            "\n",
            "Avg. validation accuracy:0.076\n"
          ]
        }
      ]
    },
    {
      "cell_type": "code",
      "metadata": {
        "id": "8P4927gnKyNC",
        "outputId": "9b064833-0bb7-48e4-888a-a78c6e85187e",
        "colab": {
          "base_uri": "https://localhost:8080/"
        }
      },
      "source": [
        "# if you don't care about the return values, throw them into a trash variable\n",
        "_ = run_pytorch_2d(\"3class\",archs(3)[2], 10, split=.5, display=False, verbose=False, trials=20)"
      ],
      "execution_count": 26,
      "outputs": [
        {
          "output_type": "stream",
          "name": "stdout",
          "text": [
            "Pytorch FC: dataset= 3class\n",
            "Loading X torch.Size([800, 2]) y torch.Size([800]) classes {0.0, 1.0, 2.0}\n",
            "Use split <torch.utils.data.dataloader.DataLoader object at 0x7f6719279990>\n",
            "Using validation split\n",
            "train_size 400 val_size 400\n",
            "Loading train X torch.Size([400, 2]) y torch.Size([400]) classes {0.0, 1.0, 2.0}\n",
            "Loading val X torch.Size([400, 2]) y torch.Size([400]) classes {0.0, 1.0, 2.0}\n",
            "# Trial 0\n",
            "# Trial 1\n",
            "# Trial 2\n",
            "# Trial 3\n",
            "# Trial 4\n",
            "# Trial 5\n",
            "# Trial 6\n",
            "# Trial 7\n",
            "# Trial 8\n",
            "# Trial 9\n",
            "# Trial 10\n",
            "# Trial 11\n",
            "# Trial 12\n",
            "# Trial 13\n",
            "# Trial 14\n",
            "# Trial 15\n",
            "# Trial 16\n",
            "# Trial 17\n",
            "# Trial 18\n",
            "# Trial 19\n",
            "\n",
            "Avg. validation accuracy:0.903975\n"
          ]
        }
      ]
    },
    {
      "cell_type": "markdown",
      "metadata": {
        "id": "XItSk-mZK6J6"
      },
      "source": [
        "## 3E)"
      ]
    },
    {
      "cell_type": "code",
      "metadata": {
        "id": "ruGoFiTOK5qU",
        "outputId": "9b4431d8-581c-4eee-deb7-319298fc62e6",
        "colab": {
          "base_uri": "https://localhost:8080/",
          "height": 1000
        }
      },
      "source": [
        "points = np.array([[-1,0], [1,0], [0,-11], [0,1], [-1,-1], [-1,1], [1,1], [1,-1]])\n",
        "\n",
        "deterministic = True\n",
        "if deterministic:\n",
        "  torch.manual_seed(10)\n",
        "  torch.backends.cudnn.deterministic = True\n",
        "  torch.backends.cudnn.benchmark = False\n",
        "  np.random.seed(10)\n",
        "\n",
        "layer_dict = archs(3) # implies we have 2 classification classes\n",
        "layers = layer_dict[0] # using architecture 0\n",
        "\n",
        "X_train, y_train, model = run_pytorch_2d(\"3class\", layers, epochs=100, trials=1, verbose=True, display=True)"
      ],
      "execution_count": 27,
      "outputs": [
        {
          "output_type": "stream",
          "name": "stdout",
          "text": [
            "Pytorch FC: dataset= 3class\n",
            "Loading X torch.Size([800, 2]) y torch.Size([800]) classes {0.0, 1.0, 2.0}\n",
            "Use split <torch.utils.data.dataloader.DataLoader object at 0x7f671921b690>\n",
            "Using validation split\n",
            "train_size 600 val_size 200\n",
            "Loading train X torch.Size([600, 2]) y torch.Size([600]) classes {0.0, 1.0, 2.0}\n",
            "Loading val X torch.Size([200, 2]) y torch.Size([200]) classes {0.0, 1.0, 2.0}\n",
            "\n",
            "\n",
            "# Trial 0\n",
            "epoch: 0 | TRAIN: loss 0.03511 acc 0.26167 | VALI: loss 0.03859 acc 0.27\n",
            "epoch: 1 | TRAIN: loss 0.03408 acc 0.32 | VALI: loss 0.03749 acc 0.295\n",
            "epoch: 2 | TRAIN: loss 0.0331 acc 0.40333 | VALI: loss 0.03644 acc 0.42\n",
            "epoch: 3 | TRAIN: loss 0.03217 acc 0.53333 | VALI: loss 0.03544 acc 0.53\n",
            "epoch: 4 | TRAIN: loss 0.03129 acc 0.6 | VALI: loss 0.0345 acc 0.585\n",
            "epoch: 5 | TRAIN: loss 0.03045 acc 0.635 | VALI: loss 0.0336 acc 0.595\n",
            "epoch: 6 | TRAIN: loss 0.02965 acc 0.655 | VALI: loss 0.03275 acc 0.615\n",
            "epoch: 7 | TRAIN: loss 0.02889 acc 0.67333 | VALI: loss 0.03195 acc 0.67\n",
            "epoch: 8 | TRAIN: loss 0.02817 acc 0.685 | VALI: loss 0.03118 acc 0.69\n",
            "epoch: 9 | TRAIN: loss 0.02749 acc 0.695 | VALI: loss 0.03046 acc 0.705\n",
            "epoch: 10 | TRAIN: loss 0.02684 acc 0.70333 | VALI: loss 0.02977 acc 0.715\n",
            "epoch: 11 | TRAIN: loss 0.02621 acc 0.71333 | VALI: loss 0.02911 acc 0.725\n",
            "epoch: 12 | TRAIN: loss 0.02562 acc 0.72833 | VALI: loss 0.02848 acc 0.735\n",
            "epoch: 13 | TRAIN: loss 0.02506 acc 0.745 | VALI: loss 0.02789 acc 0.735\n",
            "epoch: 14 | TRAIN: loss 0.02452 acc 0.755 | VALI: loss 0.02732 acc 0.75\n",
            "epoch: 15 | TRAIN: loss 0.02401 acc 0.75833 | VALI: loss 0.02678 acc 0.75\n",
            "epoch: 16 | TRAIN: loss 0.02353 acc 0.76833 | VALI: loss 0.02627 acc 0.76\n",
            "epoch: 17 | TRAIN: loss 0.02306 acc 0.78333 | VALI: loss 0.02578 acc 0.775\n",
            "epoch: 18 | TRAIN: loss 0.02262 acc 0.79833 | VALI: loss 0.02531 acc 0.78\n",
            "epoch: 19 | TRAIN: loss 0.02219 acc 0.80333 | VALI: loss 0.02486 acc 0.79\n",
            "epoch: 20 | TRAIN: loss 0.02179 acc 0.805 | VALI: loss 0.02444 acc 0.8\n",
            "epoch: 21 | TRAIN: loss 0.0214 acc 0.81167 | VALI: loss 0.02403 acc 0.805\n",
            "epoch: 22 | TRAIN: loss 0.02103 acc 0.81167 | VALI: loss 0.02364 acc 0.81\n",
            "epoch: 23 | TRAIN: loss 0.02068 acc 0.815 | VALI: loss 0.02327 acc 0.815\n",
            "epoch: 24 | TRAIN: loss 0.02034 acc 0.82333 | VALI: loss 0.02291 acc 0.82\n",
            "epoch: 25 | TRAIN: loss 0.02002 acc 0.82833 | VALI: loss 0.02257 acc 0.83\n",
            "epoch: 26 | TRAIN: loss 0.01971 acc 0.83333 | VALI: loss 0.02224 acc 0.84\n",
            "epoch: 27 | TRAIN: loss 0.01941 acc 0.83833 | VALI: loss 0.02192 acc 0.84\n",
            "epoch: 28 | TRAIN: loss 0.01912 acc 0.84167 | VALI: loss 0.02162 acc 0.85\n",
            "epoch: 29 | TRAIN: loss 0.01885 acc 0.84333 | VALI: loss 0.02133 acc 0.85\n",
            "epoch: 30 | TRAIN: loss 0.01858 acc 0.845 | VALI: loss 0.02105 acc 0.855\n",
            "epoch: 31 | TRAIN: loss 0.01833 acc 0.84833 | VALI: loss 0.02079 acc 0.855\n",
            "epoch: 32 | TRAIN: loss 0.01809 acc 0.85167 | VALI: loss 0.02053 acc 0.855\n",
            "epoch: 33 | TRAIN: loss 0.01785 acc 0.855 | VALI: loss 0.02028 acc 0.855\n",
            "epoch: 34 | TRAIN: loss 0.01763 acc 0.86 | VALI: loss 0.02004 acc 0.865\n",
            "epoch: 35 | TRAIN: loss 0.01741 acc 0.86333 | VALI: loss 0.01981 acc 0.865\n",
            "epoch: 36 | TRAIN: loss 0.0172 acc 0.86333 | VALI: loss 0.01959 acc 0.865\n",
            "epoch: 37 | TRAIN: loss 0.017 acc 0.86833 | VALI: loss 0.01938 acc 0.865\n",
            "epoch: 38 | TRAIN: loss 0.0168 acc 0.87 | VALI: loss 0.01917 acc 0.865\n",
            "epoch: 39 | TRAIN: loss 0.01661 acc 0.875 | VALI: loss 0.01897 acc 0.865\n",
            "epoch: 40 | TRAIN: loss 0.01643 acc 0.87667 | VALI: loss 0.01878 acc 0.865\n",
            "epoch: 41 | TRAIN: loss 0.01626 acc 0.87833 | VALI: loss 0.01859 acc 0.865\n",
            "epoch: 42 | TRAIN: loss 0.01609 acc 0.88 | VALI: loss 0.01841 acc 0.87\n",
            "epoch: 43 | TRAIN: loss 0.01592 acc 0.88333 | VALI: loss 0.01824 acc 0.87\n",
            "epoch: 44 | TRAIN: loss 0.01576 acc 0.885 | VALI: loss 0.01807 acc 0.87\n",
            "epoch: 45 | TRAIN: loss 0.01561 acc 0.88667 | VALI: loss 0.01791 acc 0.875\n",
            "epoch: 46 | TRAIN: loss 0.01546 acc 0.88667 | VALI: loss 0.01775 acc 0.875\n",
            "epoch: 47 | TRAIN: loss 0.01532 acc 0.88833 | VALI: loss 0.0176 acc 0.875\n",
            "epoch: 48 | TRAIN: loss 0.01518 acc 0.88833 | VALI: loss 0.01745 acc 0.875\n",
            "epoch: 49 | TRAIN: loss 0.01504 acc 0.88833 | VALI: loss 0.01731 acc 0.875\n",
            "epoch: 50 | TRAIN: loss 0.01491 acc 0.89 | VALI: loss 0.01717 acc 0.88\n",
            "epoch: 51 | TRAIN: loss 0.01478 acc 0.89167 | VALI: loss 0.01703 acc 0.885\n",
            "epoch: 52 | TRAIN: loss 0.01466 acc 0.89167 | VALI: loss 0.0169 acc 0.885\n",
            "epoch: 53 | TRAIN: loss 0.01454 acc 0.89167 | VALI: loss 0.01678 acc 0.885\n",
            "epoch: 54 | TRAIN: loss 0.01442 acc 0.89167 | VALI: loss 0.01665 acc 0.885\n",
            "epoch: 55 | TRAIN: loss 0.01431 acc 0.89167 | VALI: loss 0.01653 acc 0.885\n",
            "epoch: 56 | TRAIN: loss 0.0142 acc 0.89167 | VALI: loss 0.01642 acc 0.885\n",
            "epoch: 57 | TRAIN: loss 0.01409 acc 0.89167 | VALI: loss 0.0163 acc 0.885\n",
            "epoch: 58 | TRAIN: loss 0.01399 acc 0.89167 | VALI: loss 0.01619 acc 0.885\n",
            "epoch: 59 | TRAIN: loss 0.01389 acc 0.89167 | VALI: loss 0.01609 acc 0.885\n",
            "epoch: 60 | TRAIN: loss 0.01379 acc 0.89167 | VALI: loss 0.01598 acc 0.885\n",
            "epoch: 61 | TRAIN: loss 0.0137 acc 0.89167 | VALI: loss 0.01588 acc 0.885\n",
            "epoch: 62 | TRAIN: loss 0.0136 acc 0.89333 | VALI: loss 0.01578 acc 0.885\n",
            "epoch: 63 | TRAIN: loss 0.01351 acc 0.89333 | VALI: loss 0.01569 acc 0.885\n",
            "epoch: 64 | TRAIN: loss 0.01342 acc 0.89333 | VALI: loss 0.0156 acc 0.885\n",
            "epoch: 65 | TRAIN: loss 0.01334 acc 0.89333 | VALI: loss 0.0155 acc 0.885\n",
            "epoch: 66 | TRAIN: loss 0.01326 acc 0.89333 | VALI: loss 0.01542 acc 0.885\n",
            "epoch: 67 | TRAIN: loss 0.01317 acc 0.89667 | VALI: loss 0.01533 acc 0.885\n",
            "epoch: 68 | TRAIN: loss 0.01309 acc 0.89667 | VALI: loss 0.01525 acc 0.885\n",
            "epoch: 69 | TRAIN: loss 0.01302 acc 0.89667 | VALI: loss 0.01517 acc 0.885\n",
            "epoch: 70 | TRAIN: loss 0.01294 acc 0.89667 | VALI: loss 0.01509 acc 0.885\n",
            "epoch: 71 | TRAIN: loss 0.01287 acc 0.89667 | VALI: loss 0.01501 acc 0.885\n",
            "epoch: 72 | TRAIN: loss 0.0128 acc 0.89667 | VALI: loss 0.01493 acc 0.885\n",
            "epoch: 73 | TRAIN: loss 0.01273 acc 0.89833 | VALI: loss 0.01486 acc 0.885\n",
            "epoch: 74 | TRAIN: loss 0.01266 acc 0.9 | VALI: loss 0.01479 acc 0.885\n",
            "epoch: 75 | TRAIN: loss 0.01259 acc 0.9 | VALI: loss 0.01472 acc 0.885\n",
            "epoch: 76 | TRAIN: loss 0.01253 acc 0.9 | VALI: loss 0.01465 acc 0.885\n",
            "epoch: 77 | TRAIN: loss 0.01246 acc 0.9 | VALI: loss 0.01458 acc 0.885\n",
            "epoch: 78 | TRAIN: loss 0.0124 acc 0.9 | VALI: loss 0.01452 acc 0.885\n",
            "epoch: 79 | TRAIN: loss 0.01234 acc 0.90167 | VALI: loss 0.01445 acc 0.885\n",
            "epoch: 80 | TRAIN: loss 0.01228 acc 0.90167 | VALI: loss 0.01439 acc 0.885\n",
            "epoch: 81 | TRAIN: loss 0.01222 acc 0.90167 | VALI: loss 0.01433 acc 0.885\n",
            "epoch: 82 | TRAIN: loss 0.01217 acc 0.90167 | VALI: loss 0.01427 acc 0.885\n",
            "epoch: 83 | TRAIN: loss 0.01211 acc 0.90167 | VALI: loss 0.01421 acc 0.885\n",
            "epoch: 84 | TRAIN: loss 0.01206 acc 0.90167 | VALI: loss 0.01415 acc 0.885\n",
            "epoch: 85 | TRAIN: loss 0.012 acc 0.90167 | VALI: loss 0.0141 acc 0.885\n",
            "epoch: 86 | TRAIN: loss 0.01195 acc 0.90167 | VALI: loss 0.01404 acc 0.885\n",
            "epoch: 87 | TRAIN: loss 0.0119 acc 0.90167 | VALI: loss 0.01399 acc 0.885\n",
            "epoch: 88 | TRAIN: loss 0.01185 acc 0.90167 | VALI: loss 0.01394 acc 0.885\n",
            "epoch: 89 | TRAIN: loss 0.0118 acc 0.90167 | VALI: loss 0.01389 acc 0.885\n",
            "epoch: 90 | TRAIN: loss 0.01176 acc 0.90333 | VALI: loss 0.01384 acc 0.885\n",
            "epoch: 91 | TRAIN: loss 0.01171 acc 0.90333 | VALI: loss 0.01379 acc 0.885\n",
            "epoch: 92 | TRAIN: loss 0.01167 acc 0.90333 | VALI: loss 0.01374 acc 0.885\n",
            "epoch: 93 | TRAIN: loss 0.01162 acc 0.90333 | VALI: loss 0.0137 acc 0.885\n",
            "epoch: 94 | TRAIN: loss 0.01158 acc 0.90333 | VALI: loss 0.01365 acc 0.885\n",
            "epoch: 95 | TRAIN: loss 0.01154 acc 0.90333 | VALI: loss 0.01361 acc 0.885\n",
            "epoch: 96 | TRAIN: loss 0.0115 acc 0.90333 | VALI: loss 0.01356 acc 0.885\n",
            "epoch: 97 | TRAIN: loss 0.01145 acc 0.90333 | VALI: loss 0.01352 acc 0.885\n",
            "epoch: 98 | TRAIN: loss 0.01141 acc 0.90333 | VALI: loss 0.01348 acc 0.885\n",
            "epoch: 99 | TRAIN: loss 0.01138 acc 0.90333 | VALI: loss 0.01344 acc 0.885\n",
            "\n"
          ]
        },
        {
          "output_type": "display_data",
          "data": {
            "image/png": "[encoded data removed]",
            "text/plain": [
              "<Figure size 432x288 with 2 Axes>"
            ]
          },
          "metadata": {}
        },
        {
          "output_type": "display_data",
          "data": {
            "image/png": "[encoded data removed]",
            "text/plain": [
              "<Figure size 432x288 with 1 Axes>"
            ]
          },
          "metadata": {}
        },
        {
          "output_type": "display_data",
          "data": {
            "image/png": "[encoded data removed]",
            "text/plain": [
              "<Figure size 432x288 with 1 Axes>"
            ]
          },
          "metadata": {}
        },
        {
          "output_type": "stream",
          "name": "stdout",
          "text": [
            "\n",
            "Avg. validation accuracy:0.8272000000000002\n"
          ]
        }
      ]
    },
    {
      "cell_type": "markdown",
      "metadata": {
        "id": "6Dgaya6jrvt8"
      },
      "source": [
        "# 4) Optimizers\n",
        "\n",
        "In this question, we're going to return to the non-convex function from lab 3."
      ]
    },
    {
      "cell_type": "code",
      "metadata": {
        "id": "tKRwQ92xr9u0"
      },
      "source": [
        "import abc\n",
        "\n",
        "import numpy as np\n",
        "import matplotlib\n",
        "matplotlib.use('Agg')\n",
        "import matplotlib.pyplot as plt\n",
        "%matplotlib inline\n",
        "from io import BytesIO, StringIO\n",
        "import base64\n",
        "\n",
        "import plotly.graph_objects \n",
        "import plotly.tools "
      ],
      "execution_count": 28,
      "outputs": []
    },
    {
      "cell_type": "code",
      "metadata": {
        "id": "JRUORtKjr-_-"
      },
      "source": [
        "def tidy_plot(xmin, xmax, ymin, ymax, center = False, title = None,\n",
        "                 xlabel = None, ylabel = None):\n",
        "    plt.figure(facecolor=\"white\")\n",
        "    ax = plt.subplot()\n",
        "    if center:\n",
        "        ax.spines['left'].set_position('zero')\n",
        "        ax.spines['right'].set_color('none')\n",
        "        ax.spines['bottom'].set_position('zero')\n",
        "        ax.spines['top'].set_color('none')\n",
        "        # ax.spines['left'].set_smart_bounds(True)\t# 2021-07-26 no longer available\n",
        "        # ax.spines['bottom'].set_smart_bounds(True)\n",
        "        ax.xaxis.set_ticks_position('bottom')\n",
        "        ax.yaxis.set_ticks_position('left')\n",
        "    else:\n",
        "        ax.spines[\"top\"].set_visible(False)    \n",
        "        ax.spines[\"right\"].set_visible(False)    \n",
        "        ax.get_xaxis().tick_bottom()  \n",
        "        ax.get_yaxis().tick_left()\n",
        "    eps = .05\n",
        "    plt.xlim(xmin-eps, xmax+eps)\n",
        "    plt.ylim(ymin-eps, ymax+eps)\n",
        "    if title: ax.set_title(title)\n",
        "    if xlabel: ax.set_xlabel(xlabel)\n",
        "    if ylabel: ax.set_ylabel(ylabel)\n",
        "    return ax\n",
        "\n",
        "def plot_fun(ax, f, xmin, xmax, nPts = 100, label = None):\n",
        "    x = np.linspace(xmin, xmax, nPts)\n",
        "    y = cv([float(f(xi)) for xi in x])\n",
        "    ax.plot(x, y, label = label)\n",
        "    return savefig()\n",
        "\n",
        "def plot_points(x, y, ax = None, clear = False, \n",
        "                  xmin = None, xmax = None, ymin = None, ymax = None,\n",
        "                  style = 'or-', equal = False, mark_initial = False, mark_final = False):\n",
        "    padup = lambda v: v + 0.05 * abs(v)\n",
        "    paddown = lambda v: v - 0.05 * abs(v)\n",
        "    if ax is None:\n",
        "        if xmin == None: xmin = paddown(np.min(x))\n",
        "        if xmax == None: xmax = padup(np.max(x))\n",
        "        if ymin == None: ymin = paddown(np.min(y))\n",
        "        if ymax == None: ymax = padup(np.max(y))\n",
        "        ax = tidy_plot(xmin, xmax, ymin, ymax)\n",
        "        x_range = xmax - xmin; y_range = ymax - ymin\n",
        "        if equal and .1 < x_range / y_range < 10:\n",
        "            #ax.set_aspect('equal')\n",
        "            plt.axis('equal')\n",
        "            if x_range > y_range:\n",
        "                ax.set_xlim((xmin, xmax))\n",
        "            else:\n",
        "                ax.set_ylim((ymin, ymax))\n",
        "        xlim, ylim = ax.get_xlim(), ax.get_ylim()\n",
        "    elif clear:\n",
        "        xlim, ylim = ax.get_xlim(), ax.get_ylim()\n",
        "        ax.clear()\n",
        "    else:\n",
        "        xlim, ylim = ax.get_xlim(), ax.get_ylim()\n",
        "    ax.plot(x, y, style, markeredgewidth=0.0, linewidth = 3.0)\n",
        "    if mark_initial:  \n",
        "      ax.plot(x[0], y[0], 'xb', markersize = 12)\n",
        "    if mark_final:\n",
        "      ax.plot(x[-1], y[-1], 'Db', markersize = 6)\n",
        "    # Seems to occasionally mess up the limits\n",
        "    ax.set_xlim(xlim); ax.set_ylim(ylim)\n",
        "    ax.grid(True, which='both')\n",
        "    return ax\n",
        "\n",
        "\n",
        "def plotly2html(fig):\n",
        "    '''\n",
        "    Return HTML for plotly figure.\n",
        "    Note that the plotly js library is NOT included; this must be added, e.g. in preload.py with\n",
        "\n",
        "    cs_scripts += \"\"\"<script type=\"text/javascript\">window.PlotlyConfig = {MathJaxConfig: 'local'};</script>\"\"\"\n",
        "    cs_scripts += \"\"\"<script src=\"https://cdn.plot.ly/plotly-latest.min.js\"></script>\"\"\"\n",
        "\n",
        "    '''\n",
        "    with StringIO() as ofp:\n",
        "        fig.write_html(ofp, auto_open=False, include_plotlyjs=False, full_html=False)\n",
        "        ofp.seek(0)\n",
        "        fig_output = ofp.read()\n",
        "    return fig_output\n",
        "\n",
        "\n",
        "def savefig_plotly(legend=False, width=720, height=400):\n",
        "    '''\n",
        "    Attempt to generate a plotly figure from a matplotlib figure.\n",
        "    Doesn't always work!\n",
        "    '''\n",
        "    def is_frame_like(self, *args, **kwargs):\n",
        "        return False\n",
        "    matplotlib.spines.Spine.is_frame_like = is_frame_like\n",
        "    fig = plotly.tools.mpl_to_plotly(plt.gcf())\n",
        "    if legend:\n",
        "        fig['layout']['showlegend'] = True\n",
        "    fig.update_layout(width=width, height=height)\n",
        "    return plotly2html(fig)\n",
        "\n",
        "def savefig():\n",
        "    b = BytesIO()\n",
        "    plt.savefig(b)\n",
        "    return '<img style=\"width:600px\" src=\"data:image/png;base64,%s\" />' % base64.b64encode(b.getvalue()).decode()\n",
        "\n",
        "\n",
        "def rv(value_list):\n",
        "    return np.array([value_list])\n",
        "\n",
        "def cv(value_list):\n",
        "    return np.transpose(rv(value_list))\n",
        "\n",
        "def add_ones(X):\n",
        "    return np.vstack([X, np.ones(X.shape[1])])"
      ],
      "execution_count": 29,
      "outputs": []
    },
    {
      "cell_type": "code",
      "metadata": {
        "id": "9PA_lfi6sIGA"
      },
      "source": [
        "def f(x):\n",
        "    return(x - 2.) * (x - 3.) * (x + 3.) * (x + 1.)\n",
        "\n",
        "def fdf(x):\n",
        "    return f(x), \\\n",
        "            9. - (22. * x) - (3. * x**2) + (4. * x**3)"
      ],
      "execution_count": 30,
      "outputs": []
    },
    {
      "cell_type": "code",
      "metadata": {
        "id": "vvbnBBxgsMJ7"
      },
      "source": [
        "class Optimizer(abc.ABC):\n",
        "    def __init__(self, shape, **kwargs):\n",
        "        '''\n",
        "        shape: tuple indicating the expected shape of the gradient\n",
        "        '''\n",
        "        pass\n",
        "    \n",
        "    @abc.abstractmethod\n",
        "    def get_grad_step(self, t, gradient):\n",
        "        pass\n",
        "\n",
        "\n",
        "class GD(Optimizer):\n",
        "    def __init__(self, shape):\n",
        "        pass\n",
        "    \n",
        "    def get_grad_step(self, t, gradient):\n",
        "        return gradient\n",
        "\n",
        "\n",
        "class Adam(Optimizer):\n",
        "    def __init__(self, shape):\n",
        "        self.m = np.zeros(shape)\n",
        "        self.v = np.zeros(shape)\n",
        "        self.B1 = 0.9\n",
        "        self.B2 = 0.999\n",
        "        self.eps = 1e-8\n",
        "    \n",
        "    def get_grad_step(self, t, gradient):\n",
        "        self.m = self.B1 * self.m + (1 - self.B1) * gradient\n",
        "        self.v = self.B2 * self.v + (1- self.B2) * (gradient ** 2)\n",
        "        m_hat = self.m / (1 - self.B1**t)\n",
        "        v_hat = self.v / (1 - self.B2**t)\n",
        "        return m_hat / np.sqrt(v_hat + self.eps)\n",
        "\n",
        "\n",
        "def gd_with_optim(f_df, x0, step_size=.01, step_size_fn=None, max_iter=1000,\n",
        "                  optim_cls=GD, eps=1e-5, hook=None):\n",
        "    max_iter = min(max_iter,1000)\n",
        "    prev_x = x0\n",
        "    fs = []; xs = []\n",
        "\n",
        "    optim = optim_cls(shape=x0.shape)\n",
        "\n",
        "    for i in range(max_iter):\n",
        "        prev_f, prev_grad = f_df(prev_x)\n",
        "        if prev_grad is None:\n",
        "            prev_grad = num_grad(lambda x: f_df(x)[0])(prev_x)\n",
        "        \n",
        "        fs.append(float(prev_f)); xs.append(prev_x)\n",
        "        \n",
        "        step = step_size_fn(i) if step_size_fn else step_size\n",
        "        \n",
        "        assert prev_x.shape == prev_grad.shape\n",
        "        \n",
        "        x = prev_x - step * optim.get_grad_step(i+1, prev_grad)\n",
        "        \n",
        "        if hook: hook(x)\n",
        "        if np.all(abs(x - prev_x) < eps):\n",
        "            f, _ = f_df(x)\n",
        "            fs.append(float(f)); xs.append(x)\n",
        "            return x, fs, xs\n",
        "        prev_x = x\n",
        "    return x, fs, xs"
      ],
      "execution_count": 31,
      "outputs": []
    },
    {
      "cell_type": "code",
      "metadata": {
        "id": "NKXA7gWOsw76"
      },
      "source": [
        "### Use this function to run experiments with different optimizers (GD and Adam)\n",
        "### Make sure to try out different values for the step_size and num_steps\n",
        "def run_gd_with_optim(step_size=0.01, init_val=1.0, num_steps=10, step_size_fn=None, optim_cls=Adam):\n",
        "    init_weights = rv([init_val])\n",
        "    w, js, ws = gd_with_optim(fdf, init_weights, optim_cls=optim_cls, step_size=step_size,\n",
        "                              step_size_fn=step_size_fn, max_iter=num_steps)\n",
        "    text_output = 'objective', js[-1], 'thetas', w\n",
        "    nax = tidy_plot(-4, 4, -25, 25,\n",
        "                    xlabel = '\\u03F4', ylabel = 'f(\\u03F4)',\n",
        "                    title = 'step size = '+str(step_size), center = True)\n",
        "    plot_points([float(w) for w in ws], [float(j) for j in js], nax, mark_initial=True, mark_final=True)\n",
        "    plot_fun(nax, lambda w: fdf(w)[0], -4, 4)\n",
        "    plt.show()\n",
        "    return text_output"
      ],
      "execution_count": 32,
      "outputs": []
    }
  ]
}