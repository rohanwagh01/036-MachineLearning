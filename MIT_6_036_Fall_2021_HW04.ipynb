{
  "nbformat": 4,
  "nbformat_minor": 0,
  "metadata": {
    "colab": {
      "name": "MIT 6.036 Fall 2021 HW04.ipynb",
      "provenance": [],
      "collapsed_sections": [],
      "toc_visible": true,
      "include_colab_link": true
    },
    "kernelspec": {
      "name": "python3",
      "display_name": "Python 3"
    }
  },
  "cells": [
    {
      "cell_type": "markdown",
      "metadata": {
        "id": "view-in-github",
        "colab_type": "text"
      },
      "source": [
        "<a href=\"https://colab.research.google.com/github/rohanwagh01/036-MachineLearning/blob/main/MIT_6_036_Fall_2021_HW04.ipynb\" target=\"_parent\"><img src=\"https://colab.research.google.com/assets/colab-badge.svg\" alt=\"Open In Colab\"/></a>"
      ]
    },
    {
      "cell_type": "markdown",
      "metadata": {
        "id": "Wmv3jlgr4_Ji"
      },
      "source": [
        "# MIT 6.036 Fall 2021: Homework 4\n",
        "This homework does not include provided Python code. Instead, we\n",
        "encourage you to write your own code to help you answer some of these\n",
        "problems, and/or test and debug the code components we do ask for.\n",
        "Some of the problems below are simple enough that hand calculation\n",
        "should be possible; your hand solutions can serve as test cases for\n",
        "your code.  You may also find that including utilities written in\n",
        "previous labs (like a `sd` or signed distance function) will be\n",
        "helpful, as you build up additional functions and utilities for\n",
        "calculation of margins, different loss functions, gradients, and other\n",
        "functions needed for margin maximization and gradient descent."
      ]
    },
    {
      "cell_type": "code",
      "metadata": {
        "colab": {
          "base_uri": "https://localhost:8080/"
        },
        "id": "W9G1zz1Dx8JQ",
        "outputId": "179c25d0-ed2a-43ad-df90-e4a09e0ec879"
      },
      "source": [
        "# run this cell to load the code for HW04 and to import libraries\n",
        "!rm -rf code_for_hw04.py\n",
        "!rm -rf __MACOSX\n",
        "!wget --no-check-certificate --quiet https://go.odl.mit.edu/subject/6.036/_static/catsoop/homework/hw04/code_for_hw04.py\n",
        "\n",
        "from code_for_hw04 import *"
      ],
      "execution_count": 1,
      "outputs": [
        {
          "output_type": "stream",
          "name": "stdout",
          "text": [
            "Importing code_for_hw04\n"
          ]
        }
      ]
    },
    {
      "cell_type": "code",
      "metadata": {
        "id": "znpHq2Cjj0UE"
      },
      "source": [
        "import numpy as np\n",
        "\n",
        "import matplotlib\n",
        "import matplotlib.pyplot as plt"
      ],
      "execution_count": 2,
      "outputs": []
    },
    {
      "cell_type": "markdown",
      "metadata": {
        "id": "I8LURTn22Sse"
      },
      "source": [
        "## 2) Vectorized Random Binary Classifier\n",
        "\n",
        "Let's implement the Random linear classifier from the notes. But rather than use the `for` loop in the notes, we will be able to evaluate our random hyperplanes all at once. The process of using matrix algebra to do things we would otherwise express with loops is called \"vectorization\" and helps make our algorithms (for more complicated models) run fast on GPUs.\n",
        "\n",
        "We will implement a binary linear classifier: \n",
        "\n",
        "$h(x; \\theta, \\theta_0) = \\begin{cases} \n",
        "      1 & \\text{if }\\theta^T x + \\theta_0 > 0 \\\\\n",
        "      -1 & \\text{if }\\theta^T x + \\theta_0 \\le 0 \n",
        "   \\end{cases}$"
      ]
    },
    {
      "cell_type": "markdown",
      "metadata": {
        "id": "ag5bK-_RS-jP"
      },
      "source": [
        "### 2.2) Things are getting tensor\n",
        "First, let's remind ourselves how to implement a binary linear classifier."
      ]
    },
    {
      "cell_type": "code",
      "metadata": {
        "id": "iC96-mWmWHp9"
      },
      "source": [
        "def binary_classifier(x, theta, theta0):\n",
        "    y = theta.T @ x + theta0\n",
        "    return np.where(y>0, 1, -1)"
      ],
      "execution_count": 3,
      "outputs": []
    },
    {
      "cell_type": "markdown",
      "metadata": {
        "id": "3j5yQaAqWRC8"
      },
      "source": [
        "Now, we want to assess $k$ binary classifiers on our data $x$ at once without using a `for` loop like in the notes. There is more than one way to do this. One simple way is to prepend a third index to our model parameters, making them tensors instead of just matrices. (The tensors must flow!) This will require us to rewrite our function. Again, there is more than one way to do this.\n",
        "\n",
        "In the [Matrix Derivative Notes](https://canvas.mit.edu/courses/11118/files/1660235?module_item_id=434603), we introduced \"implicit summation\" notation, which is also known as \"Einstein summation notation\". This is a very helpful technique especially when you have tensors with many indices. Here's how we can \"vectorize\" our binary classifier to apply multiple binary classifiers at once using Einstein summation notation with `np.einsum`.\n"
      ]
    },
    {
      "cell_type": "code",
      "metadata": {
        "id": "htoRXtZNXl9G"
      },
      "source": [
        "def vectorized_binary_classifier(x, theta, theta0):\n",
        "    \"\"\"\n",
        "    n = num of examples, d = dimensions of features, k = model index\n",
        "    input  before -> now vectorized!\n",
        "    x      [d, n] -> [d, n] (no change here since we are vectorizing over models)\n",
        "    theta  [d, 1] -> [k, d, 1]\n",
        "    theta0 [1, 1] -> [k, 1, 1]\n",
        "\n",
        "    We will use the letter 'b' below to indicate our binary output index.\n",
        "    \"\"\"\n",
        "    # Because the 'd' index is repeated and does not appear in the final 'kbn',\n",
        "    # it is summed over just like we do with our regular matrix multiply @.\n",
        "    y = np.einsum('kdb,dn->kbn', theta, x) + theta0\n",
        "    return np.where(y>0, 1, -1)"
      ],
      "execution_count": 4,
      "outputs": []
    },
    {
      "cell_type": "markdown",
      "metadata": {
        "id": "WE39zushgsir"
      },
      "source": [
        "One of the many nice things about `np.einsum` is that it handles index transposes for you!\n",
        "\n",
        "We are also going to implement a function that takes `theta` and `theta0` and returns the \"slope\" and \"intercept\" of our hyperplane. This is a helpful function for plotting! "
      ]
    },
    {
      "cell_type": "code",
      "metadata": {
        "id": "XkfHdGyDgsC8"
      },
      "source": [
        "def slope_intercept(theta, theta0):\n",
        "  return (-theta[:-1] / theta[-1], theta0/ theta[-1])"
      ],
      "execution_count": 5,
      "outputs": []
    },
    {
      "cell_type": "markdown",
      "metadata": {
        "id": "_xF71Ae8sNR0"
      },
      "source": [
        "Now, let's create and plot random hyperplanes and our train and test set. We'll start with the number of hyperplanes $k=5$. See what happens when you increase the number of hyperplanes (e.g. $k=10,20,50$)."
      ]
    },
    {
      "cell_type": "code",
      "metadata": {
        "id": "AAuUFQAW2Zqh"
      },
      "source": [
        "###################################################################\n",
        "\n",
        "def generate_random_hyperplanes(k, d, vmax):\n",
        "  rand_theta = np.random.rand(k, d, 1) * 2 * vmax - vmax\n",
        "  rand_theta0 = np.random.rand(k, 1, 1) * 2 * vmax - vmax\n",
        "  return (rand_theta, rand_theta0)\n",
        "\n",
        "def generate_random_data(n):\n",
        "  center0 = np.array([-1, 0.5]).reshape(2, 1) \n",
        "  center1 = np.array([0.5, -1]).reshape(2, 1) \n",
        "\n",
        "  # Two overlapping clusters\n",
        "  ## Train\n",
        "  train_class0 = np.random.randn(2, n // 2) + center0\n",
        "  train_class1 = np.random.randn(2, n // 2) + center1\n",
        "\n",
        "  ## Test\n",
        "  test_class0 = np.random.randn(2, n // 2) + center0\n",
        "  test_class1 = np.random.randn(2, n // 2) + center1\n",
        "\n",
        "  train_data = np.concatenate([train_class0, train_class1], axis=-1)\n",
        "  test_data = np.concatenate([test_class0, test_class1], axis=-1)\n",
        "\n",
        "  train_labels = np.array([-1] * (n // 2) + [1] * (n // 2))\n",
        "  test_labels = np.array([-1] * (n // 2) + [1] * (n // 2))\n",
        "  return train_data, test_data, train_labels, test_labels\n",
        "\n",
        "def plot_rand_classifier(train_data, test_data, vmax):\n",
        "  fig, ax = plt.subplots(1, 2, figsize=(10, 5))\n",
        "  ax[0].set_xlim([-vmax, vmax])\n",
        "  ax[1].set_xlim([-vmax, vmax])\n",
        "  ax[0].set_ylim([-vmax, vmax])\n",
        "  ax[1].set_ylim([-vmax, vmax])\n",
        "  ax[0].grid(color='lightgrey', linestyle='-', linewidth=0.5)\n",
        "  ax[1].grid(color='lightgrey', linestyle='-', linewidth=0.5)\n",
        "  x = np.linspace(-vmax, vmax, 100)\n",
        "  for i in range(k):\n",
        "    a, b = slope_intercept(rand_theta[i], rand_theta0[i])\n",
        "    ax[0].plot(x, a.squeeze() * x + b.squeeze(), '-', label='%d' % (i + 1))\n",
        "    ax[1].plot(x, a.squeeze() * x + b.squeeze(), '-', label='%d' % (i + 1))\n",
        "  ax[0].plot(train_data[0,:n//2], train_data[1,:n//2], 'b+')\n",
        "  ax[0].plot(train_data[0,n//2:], train_data[1,n//2:], 'r_')\n",
        "  ax[1].plot(test_data[0,:n//2], test_data[1,:n//2], 'b+')\n",
        "  ax[1].plot(test_data[0,n//2:], test_data[1,n//2:], 'r_')\n",
        "  ax[0].set_title('Train set')\n",
        "  ax[1].set_title('Test set')\n",
        "\n",
        "  line_colors = np.array([matplotlib.colors.to_rgb(ax[0].lines[i].get_color()) for i in range(k)])\n",
        "\n",
        "  handles, labels = ax[0].get_legend_handles_labels()\n",
        "  fig.legend(handles, labels, loc='center right')\n",
        "  return fig\n",
        "\n",
        "  ###################################################################"
      ],
      "execution_count": 6,
      "outputs": []
    },
    {
      "cell_type": "code",
      "metadata": {
        "colab": {
          "base_uri": "https://localhost:8080/",
          "height": 336
        },
        "id": "L0XFx5nvPw2c",
        "outputId": "af728c1b-847d-47e0-a651-8fcde64e3e74"
      },
      "source": [
        "### visualize_random_classifier\n",
        "np.random.seed(6036)\n",
        "\n",
        "vmax = 4\n",
        "d = 2\n",
        "k = 5  # 5 random models\n",
        "n = 40 \n",
        "\n",
        "train_data, test_data, train_labels, test_labels = generate_random_data(n)\n",
        "rand_theta, rand_theta0 = generate_random_hyperplanes(k, d, vmax)\n",
        "\n",
        "train_out = vectorized_binary_classifier(train_data, rand_theta, rand_theta0)\n",
        "test_out = vectorized_binary_classifier(test_data, rand_theta, rand_theta0)\n",
        "\n",
        "plot_rand_classifier(train_data, test_data, vmax);"
      ],
      "execution_count": 7,
      "outputs": [
        {
          "output_type": "display_data",
          "data": {
            "image/png": "[encoded data removed]",
            "text/plain": [
              "<Figure size 720x360 with 2 Axes>"
            ]
          },
          "metadata": {
            "needs_background": "light"
          }
        }
      ]
    },
    {
      "cell_type": "markdown",
      "metadata": {
        "id": "Ax7Uzs0zxBNX"
      },
      "source": [
        "Random linear classifiers are scored based on the best performing random hyperplane.\n",
        "\n",
        "[QUESTION] How does the random classifier's performance improve with increasing the number of hyperplanes? I.e. adding a new random hyperplane to an existing random classifier.\n",
        "\n",
        "* The classifier is random, so performance is also random\n",
        "* Performance improves non-monotonically (might go down)\n",
        "* Performance monotonically improves (might stay the same)\n",
        "* Performance is guaranteed to improve every time we increase the number of hyperplanes"
      ]
    },
    {
      "cell_type": "markdown",
      "metadata": {
        "id": "jK_DVcISNTOK"
      },
      "source": [
        "### 2.3) How much are we losing?\n",
        "\n",
        "Now we're going to evaluate the loss. Given the model output $h(x)$ and labels $y$, the loss of our binary classifier is.\n",
        "\n",
        "$E_n (h) = \\frac{1}{n} \\sum_{i=1}^n \\begin{cases} \n",
        "      1 & h(x^{(i)}) \\ne y^{(i)} \\\\\n",
        "      0 & \\text{otherwise}\n",
        "   \\end{cases}$\n",
        "\n",
        "Write a function, binary_loss, that has the following input arguments:\n",
        "\n",
        "* `output`: the output of the random classifier ($k \\times 1 \\times n$)\n",
        "* `labels`: the true labels of the data points, copied $k$ times ($k\\times 1 \\times n$)\n",
        "\n",
        "Our function `binary_loss` returns a $k \\times 1$ matrix, the loss calculated for each of the $k$ classifiers.\n",
        "\n",
        "To write this function, we will use the `numpy` function [`np.count_nonzero`](https://numpy.org/doc/stable/reference/generated/numpy.count_nonzero.html)."
      ]
    },
    {
      "cell_type": "code",
      "metadata": {
        "id": "d_XGRDOZdLNL"
      },
      "source": [
        "def binary_loss(output, labels):\n",
        "    res = output-labels\n",
        "    out = []\n",
        "    for k_data in res:\n",
        "        out.append([np.count_nonzero(k_data[0])/output.shape[2]])\n",
        "    return np.array(out)"
      ],
      "execution_count": 8,
      "outputs": []
    },
    {
      "cell_type": "markdown",
      "metadata": {
        "id": "MlidBWpb_ROI"
      },
      "source": [
        "### 2.4) Trying things many times\n",
        "\n",
        "Now we are going to plot the `mean` and `min` error of our random classifiers as a function of the number of random hypotheses (hyperplanes). Note that when we use our `binary_loss` function, we will need to prepend a new axis to our original labels `[1, n] -> [1, 1, n]`, so our expression can broadcast the appropriate dimensions."
      ]
    },
    {
      "cell_type": "code",
      "metadata": {
        "id": "iYFhvBxaq9jb",
        "colab": {
          "base_uri": "https://localhost:8080/",
          "height": 375
        },
        "outputId": "2a351d32-344d-4b8b-801c-c0d62484e92f"
      },
      "source": [
        "np.random.seed(6036)\n",
        "\n",
        "errs_train, errs_test = [], []\n",
        "\n",
        "n_trials = 20\n",
        "hypotheses_range = [1e1, 3e1, 1e2, 3e2, 1e3, 3e3, 1e4]\n",
        "all_hypotheses = hypotheses_range * n_trials\n",
        "\n",
        "for i in all_hypotheses:\n",
        "  rand_theta = np.random.rand(int(i), d, 1) * 2 * vmax - vmax\n",
        "  rand_theta0 = np.random.rand(int(i), 1, 1) * 2 * vmax - vmax\n",
        "  train_out = vectorized_binary_classifier(train_data, rand_theta, rand_theta0)\n",
        "  test_out = vectorized_binary_classifier(test_data, rand_theta, rand_theta0)\n",
        "  errs_train.append(binary_loss(train_out, train_labels[np.newaxis, ...]))\n",
        "  errs_test.append(binary_loss(test_out, test_labels[np.newaxis, ...]))\n",
        "\n",
        "errs_train_mean = [np.mean(x) for x in errs_train]\n",
        "errs_test_mean = [np.mean(x) for x in errs_test]\n",
        "errs_train_min = [np.min(x) for x in errs_train]\n",
        "errs_test_min = [y[np.argmin(x)] for x,y in zip(errs_train, errs_test)]\n",
        "\n",
        "errs_train_mean_edge = (np.min(np.array(errs_train_mean).reshape(n_trials, -1), axis=0), \n",
        "                        np.max(np.array(errs_train_mean).reshape(n_trials, -1), axis=0))\n",
        "errs_test_mean_edge = (np.min(np.array(errs_test_mean).reshape(n_trials, -1), axis=0), \n",
        "                        np.max(np.array(errs_test_mean).reshape(n_trials, -1), axis=0))\n",
        "errs_train_min_edge = (np.min(np.array(errs_train_min).reshape(n_trials, -1), axis=0), \n",
        "                        np.max(np.array(errs_train_min).reshape(n_trials, -1), axis=0))\n",
        "errs_test_min_edge = (np.min(np.array(errs_test_min).reshape(n_trials, -1), axis=0), \n",
        "                        np.max(np.array(errs_test_min).reshape(n_trials, -1), axis=0))\n",
        "\n",
        "fig, ax = plt.subplots(1, 2, figsize=(12,5), sharey=True, sharex=True)\n",
        "ax[0].set_xscale('log')\n",
        "ax[1].set_xscale('log')\n",
        "\n",
        "ax[0].plot(all_hypotheses, errs_train_mean, 'co', label=\"Mean train error\")\n",
        "ax[0].fill_between(hypotheses_range, errs_train_mean_edge[0], errs_train_mean_edge[1], alpha=0.2, color='c')\n",
        "\n",
        "ax[1].plot(all_hypotheses, errs_test_mean, 'mo', label=\"Mean test error\")\n",
        "ax[1].fill_between(hypotheses_range, errs_test_mean_edge[0], errs_test_mean_edge[1], alpha=0.2, color='m')\n",
        "\n",
        "ax[0].plot(all_hypotheses, errs_train_min, 'bo', label=\"Minimum train error\")\n",
        "ax[0].fill_between(hypotheses_range, errs_train_min_edge[0], errs_train_min_edge[1], alpha=0.2, color='b')\n",
        "\n",
        "ax[1].plot(all_hypotheses, errs_test_min, 'ro', label=\"Minimum test error\")\n",
        "ax[1].fill_between(hypotheses_range, errs_test_min_edge[0], errs_test_min_edge[1], alpha=0.2, color='r')\n",
        "\n",
        "ax[0].set_xlabel('Number of random hyperplanes', fontsize=14)\n",
        "ax[0].set_ylabel('Percent Error', fontsize=14)\n",
        "ax[0].set_yticks(np.linspace(0, 1, 11))\n",
        "ax[0].set_ylim(0, 1)\n",
        "\n",
        "ax[1].set_xlabel('Number of random hyperplanes', fontsize=14)\n",
        "ax[1].set_ylabel('Percent Error', fontsize=14)\n",
        "ax[1].set_ylim(0, 1)\n",
        "\n",
        "percentages = list(map(str,list(range(0, 101, 10))))\n",
        "yticks = np.linspace(0, 1, 11)\n",
        "ax[0].set_yticks(yticks)\n",
        "ax[1].set_yticks(yticks)\n",
        "ax[0].set_yticklabels(percentages)\n",
        "\n",
        "ax[0].grid(color='lightgrey', linestyle='-', linewidth=0.5)\n",
        "ax[1].grid(color='lightgrey', linestyle='-', linewidth=0.5)\n",
        "\n",
        "ax[0].set_title(\"Train Data\")\n",
        "ax[1].set_title(\"Test Data\")\n",
        "\n",
        "handles, labels = ax[0].get_legend_handles_labels()\n",
        "handles2, labels2 = ax[1].get_legend_handles_labels()\n",
        "fig.subplots_adjust(right=0.78)\n",
        "fig.legend(handles + handles2, labels + labels2, loc='center right', fontsize=12)"
      ],
      "execution_count": 9,
      "outputs": [
        {
          "output_type": "execute_result",
          "data": {
            "text/plain": [
              "<matplotlib.legend.Legend at 0x7feb20cf9490>"
            ]
          },
          "metadata": {},
          "execution_count": 9
        },
        {
          "output_type": "display_data",
          "data": {
            "image/png": "[encoded data removed]",
            "text/plain": [
              "<Figure size 864x360 with 2 Axes>"
            ]
          },
          "metadata": {
            "needs_background": "light"
          }
        }
      ]
    },
    {
      "cell_type": "markdown",
      "metadata": {
        "id": "BH-1e98V8LtM"
      },
      "source": [
        "## 3) Applying gradient descent to Linear Logistic Classification objective\n",
        "\n",
        "**NOTE:** In this section,\n",
        "you will code many individual functions, each of which depends on previous ones.\n",
        "We **strongly recommend** that you test each of the components on your own to debug.\n",
        "\n",
        "### 3.1) Calculating the Linear Logistic Classification (LLC) objective\n",
        "\n",
        "First, implement the sigmoid function and implement NLL loss over the data points and separator.\n",
        "Using the latter function, implement the LLC objective.\n",
        "Note that these functions should work for matrix/vector arguments,\n",
        "so that we can compute the objective for a whole dataset with one call.\n",
        "\n",
        "Note that `X` <b>(Upper case X is the dataset here)</b>  is $d \\times n$, `y` is $1 \\times n$, `th` is $d \\times 1$, `th0` is $1 \\times 1$, `lam` is a scalar.\n",
        "\n",
        "Hint: Look at `np.exp`, `np.log`\n"
      ]
    },
    {
      "cell_type": "code",
      "metadata": {
        "id": "F_6E78BF8e2W"
      },
      "source": [
        "# returns a vector of the same shape as z\n",
        "def sigmoid(z):\n",
        "    return 1/(1+np.exp(-z))\n",
        "\n",
        "# X is dxn, y is 1xn, th is dx1, th0 is 1x1\n",
        "# returns a (1,n) array for the nll loss for each data point given th and th0\n",
        "def nll_loss(X, y, th, th0):\n",
        "    g = sigmoid(np.dot(th.T, X) + th0)\n",
        "    return -(y*np.log(g) + (1-y)*np.log(1-g))\n",
        "\n",
        "# X is dxn, y is 1xn, th is dx1, th0 is 1x1, lam is a scalar\n",
        "# returns a np.float for the llc objective over the dataset\n",
        "def llc_obj(X, y, th, th0, lam):\n",
        "    return np.mean(nll_loss(X, y, th, th0)) + lam*np.linalg.norm(th)**2\n"
      ],
      "execution_count": 10,
      "outputs": []
    },
    {
      "cell_type": "code",
      "metadata": {
        "id": "POFvK7zW8iYK",
        "colab": {
          "base_uri": "https://localhost:8080/"
        },
        "outputId": "7b03ec5a-582a-4741-f60e-91320131d65e"
      },
      "source": [
        "test_llc_obj(sigmoid, nll_loss, llc_obj)"
      ],
      "execution_count": 11,
      "outputs": [
        {
          "output_type": "stream",
          "name": "stdout",
          "text": [
            "Test 1 passed\n",
            "Test 2 passed\n",
            "Test 3 passed\n"
          ]
        }
      ]
    },
    {
      "cell_type": "markdown",
      "metadata": {
        "id": "ZjBB0R4u8tF1"
      },
      "source": [
        "### 4.2) Calculating the Linear Logistic Classification gradient\n",
        "\n",
        "Define a function `llc_obj_grad` that returns the gradient of the logistic regression\n",
        "objective function with respect to $\\theta$ and $\\theta_0$ in a single\n",
        "column vector.  The last component of the gradient vector should be\n",
        "the partial derivative with respect to $\\theta_0$.  Look at\n",
        "`np.vstack` as a simple way of stacking two matrices/vectors\n",
        "vertically.  We have broken it down into pieces that mimic steps in\n",
        "the chain rule; this leads to code that is a bit inefficient but\n",
        "easier to write and debug.  We can worry about efficiency later.\n",
        "\n",
        "Each of the test cases we provide corresponds to a function below in order. Feel free to run the tests after you finish each function to check."
      ]
    },
    {
      "cell_type": "code",
      "metadata": {
        "id": "lAtDiGVK8vnt"
      },
      "source": [
        "# returns an array of the same shape as z for the gradient of sigmoid(z)\n",
        "def d_sigmoid(z):\n",
        "    g = 1/(1+np.exp(-z))\n",
        "    return g*(g-1)\n",
        "\n",
        "# returns a (d,n) array for the gradient of nll_loss(X, y, th, th0) with respect to th for each data point\n",
        "def d_nll_loss_th(X, y, th, th0):\n",
        "    g = sigmoid(np.dot(th.T, X) + th0)\n",
        "    return (g-y)*X\n",
        "\n",
        "# returns a (1,n) array for the gradient of nll_loss(X, y, th, th0) with respect to th0\n",
        "def d_nll_loss_th0(X, y, th, th0):\n",
        "    g = sigmoid(np.dot(th.T, X) + th0)\n",
        "    return g-y\n",
        "\n",
        "# returns a (d,1) array for the gradient of llc_obj(X, y, th, th0) with respect to th\n",
        "def d_llc_obj_th(X, y, th, th0, lam):\n",
        "    return np.mean(d_nll_loss_th(X, y, th, th0), axis = 1, keepdims = True) + 2*lam*th\n",
        "\n",
        "# returns a (1,1) array for the gradient of llc_obj(X, y, th, th0) with respect to th0\n",
        "def d_llc_obj_th0(X, y, th, th0, lam):\n",
        "    return np.mean(d_nll_loss_th0(X, y, th, th0), axis = 1, keepdims = True)\n",
        "\n",
        "# returns a (d+1, 1) array for the full gradient as a single vector (which includes both th, th0)\n",
        "def llc_obj_grad(X, y, th, th0, lam):\n",
        "    return np.vstack([d_llc_obj_th(X, y, th, th0, lam), d_llc_obj_th0(X, y, th, th0, lam)])\n"
      ],
      "execution_count": 12,
      "outputs": []
    },
    {
      "cell_type": "markdown",
      "metadata": {
        "id": "LDP6H_2P80vm"
      },
      "source": [
        "Some test cases that may be of use are provided below."
      ]
    },
    {
      "cell_type": "code",
      "metadata": {
        "id": "xNuF6-c38yji",
        "colab": {
          "base_uri": "https://localhost:8080/"
        },
        "outputId": "02cf2e0e-0125-4835-c37b-7690ab7504af"
      },
      "source": [
        "test_llc_grad(d_sigmoid,d_nll_loss_th,d_nll_loss_th0,d_llc_obj_th,d_llc_obj_th0,llc_obj_grad)"
      ],
      "execution_count": 13,
      "outputs": [
        {
          "output_type": "stream",
          "name": "stdout",
          "text": [
            "Test 1 passed\n",
            "Test 2 passed\n",
            "Test 3 passed\n",
            "Test 4 passed\n",
            "Test 5 passed\n",
            "Test 6 passed\n"
          ]
        }
      ]
    },
    {
      "cell_type": "markdown",
      "metadata": {
        "id": "3vf6OFEU89pC"
      },
      "source": [
        "### 4.3) Linear Logistic Classification minimize\n",
        "\n",
        "Putting it all together, use the functions you built earlier to write\n",
        "a gradient descent minimizer for the LLC objective.  You do not need\n",
        "to paste in your previous definitions; you can just call the ones\n",
        "you've defined above. For this Colab, you will need to paste the code for `gd` the gradient descent function which you implemented in [HW 3](https://canvas.mit.edu/courses/11118/assignments/126759) (on the homework page this is implemented in the checker); your function `llc_min` should return the values that `gd` does.\n",
        "\n",
        "* Initialize all the separator parameters to zero,\n",
        "* use the step size function provided below, and\n",
        "* specify 10 iterations."
      ]
    },
    {
      "cell_type": "code",
      "metadata": {
        "id": "Ncl35NMjARJl"
      },
      "source": [
        "#### PASTE YOUR FUNCTION FROM HW03 ####\n",
        "def gd(f, df, x0, step_size_fn, num_steps):\n",
        "    for i in range(num_steps):\n",
        "        x0 = x0 - step_size_fn(i)*df(x0)\n",
        "    return (x0,f(x0))"
      ],
      "execution_count": 14,
      "outputs": []
    },
    {
      "cell_type": "code",
      "metadata": {
        "id": "dIqWIYnq8_Nb"
      },
      "source": [
        "def llc_min(data, labels, lam):\n",
        "    \"\"\"\n",
        "    Parameters:\n",
        "        data: dxn\n",
        "        labels: 1xn\n",
        "        lam: scalar\n",
        "    Returns:\n",
        "        same output as gd\n",
        "    \"\"\"\n",
        "    def llc_min_step_size_fn(i):\n",
        "        return 2/(i+1)**0.5\n",
        "        \n",
        "    init = np.zeros((data.shape[0] + 1, 1))\n",
        "    \n",
        "    def f(th):\n",
        "        return llc_obj(data, labels, th[:th.shape[0]-1, :], th[th.shape[0]-1:,:], lam)\n",
        "        \n",
        "    def df(th):\n",
        "        return llc_obj_grad(data, labels, th[:th.shape[0]-1, :], th[th.shape[0]-1:,:], lam)\n",
        "        \n",
        "    return gd(f, df, init, llc_min_step_size_fn, 10)"
      ],
      "execution_count": 15,
      "outputs": []
    },
    {
      "cell_type": "markdown",
      "metadata": {
        "id": "JH4xd7C-9BIm"
      },
      "source": [
        "Test cases are shown below, where an additional separable test\n",
        "data set has been specified."
      ]
    },
    {
      "cell_type": "code",
      "metadata": {
        "id": "HgOC_i879Acd",
        "colab": {
          "base_uri": "https://localhost:8080/"
        },
        "outputId": "312fdea1-5b8d-405a-ae40-20230246edc8"
      },
      "source": [
        "test_llc_min(llc_min)"
      ],
      "execution_count": 16,
      "outputs": [
        {
          "output_type": "stream",
          "name": "stdout",
          "text": [
            "Test 1 passed\n",
            "Test 2 passed\n"
          ]
        }
      ]
    },
    {
      "cell_type": "code",
      "metadata": {
        "id": "VyaOO0qfyfdO"
      },
      "source": [
        ""
      ],
      "execution_count": null,
      "outputs": []
    }
  ]
}