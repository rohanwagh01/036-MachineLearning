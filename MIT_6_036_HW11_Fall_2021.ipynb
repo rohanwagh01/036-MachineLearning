{
  "nbformat": 4,
  "nbformat_minor": 0,
  "metadata": {
    "colab": {
      "name": "MIT 6.036 HW11 - Fall 2021",
      "provenance": [],
      "collapsed_sections": [],
      "include_colab_link": true
    },
    "kernelspec": {
      "name": "python3",
      "display_name": "Python 3"
    }
  },
  "cells": [
    {
      "cell_type": "markdown",
      "metadata": {
        "id": "view-in-github",
        "colab_type": "text"
      },
      "source": [
        "<a href=\"https://colab.research.google.com/github/rohanwagh01/036-MachineLearning/blob/main/MIT_6_036_HW11_Fall_2021.ipynb\" target=\"_parent\"><img src=\"https://colab.research.google.com/assets/colab-badge.svg\" alt=\"Open In Colab\"/></a>"
      ]
    },
    {
      "cell_type": "markdown",
      "metadata": {
        "id": "wCZ5V-cO65Yr"
      },
      "source": [
        "#MIT 6.036 Fall 2021: Homework 11#\n",
        "\n",
        "This colab notebook provides code and a framework for question 1 and 5 of hw11.  You can work out your solutions here, then submit your results back on the homework page when ready.\n"
      ]
    },
    {
      "cell_type": "markdown",
      "metadata": {
        "id": "oqYqLxGp7hZZ"
      },
      "source": [
        "## Setup"
      ]
    },
    {
      "cell_type": "markdown",
      "metadata": {
        "id": "NaNYfsS87tUi"
      },
      "source": [
        "First, download the code distribution for this homework that contains test cases and helper functions.\n",
        "\n",
        "Run the next code block to download and import the code for this lab."
      ]
    },
    {
      "cell_type": "code",
      "metadata": {
        "id": "c7CRuXxj7ubB",
        "colab": {
          "base_uri": "https://localhost:8080/"
        },
        "outputId": "fd5c0f69-72fb-476a-b619-919070802997"
      },
      "source": [
        "!rm -rf code_for_hw11*\n",
        "!wget --no-check-certificate --quiet https://go.odl.mit.edu/subject/6.036/_static/catsoop/homework/hw11/code_for_hw11.zip\n",
        "!unzip code_for_hw11.zip\n",
        "!mv code_for_hw11/* .\n",
        "\n",
        "from dist import *\n",
        "from sm import *\n",
        "from util import *\n",
        "\n",
        "import numpy as np"
      ],
      "execution_count": 1,
      "outputs": [
        {
          "output_type": "stream",
          "name": "stdout",
          "text": [
            "Archive:  code_for_hw11.zip\n",
            "   creating: code_for_hw11/\n",
            "  inflating: code_for_hw11/util.py   \n",
            "  inflating: code_for_hw11/sm.py     \n",
            "  inflating: code_for_hw11/tests.py  \n",
            "  inflating: code_for_hw11/dist.py   \n"
          ]
        }
      ]
    },
    {
      "cell_type": "markdown",
      "metadata": {
        "id": "uhGY4b888N52"
      },
      "source": [
        "## 1) State Machines\n",
        "\n",
        "We will implement state machines as sub-classes of the `SM` class, which specifies the `start_state`, `transition_fn` and `output_fn`.\n",
        "\n",
        "```\n",
        "class SM:\n",
        "    start_state = None  # default start state\n",
        "    def transition_fn(self, s, x):\n",
        "        '''s:       the current state\n",
        "           i:       the given input\n",
        "           returns: the next state'''\n",
        "        raise NotImplementedError\n",
        "    def output_fn(self, s):\n",
        "        '''s:       the current state\n",
        "           returns: the corresponding output'''\n",
        "        raise NotImplementedError\n",
        "```\n",
        "\n",
        "An example of a sub-class is the `Accumulator` state machine, which adds up (accumulates) its input and outputs the sum. Convince yourself that the implementation works as expected before moving on.\n",
        "\n",
        "```\n",
        "class Accumulator(SM):\n",
        "    start_state = 0\n",
        "    def transition_fn(self, s, x):\n",
        "        return s + x\n",
        "    def output_fn(self, s):\n",
        "        return s\n",
        "```"
      ]
    },
    {
      "cell_type": "markdown",
      "metadata": {
        "id": "sYF-u59B861-"
      },
      "source": [
        "### 1.1 Transduce\n",
        "A transducer consumes the input andupdates the state. It then uses the\n",
        "updated state to produce the output. \n",
        "Implement the `transduce` method for the `SM` class.  It is given an\n",
        "input sequence (a list) and returns an output sequence (a list) of the\n",
        "outputs of the state machine on the input sequence. The input and output sequences are of the same length.  Assume `self.transition_fn`, `self.output_fn` and `self.start_state` are defined."
      ]
    },
    {
      "cell_type": "code",
      "metadata": {
        "id": "Xy42nJa69D3i"
      },
      "source": [
        "class SM:\n",
        "    start_state = None\n",
        "\n",
        "    def transduce(self, input_seq):\n",
        "        '''input_seq: a list of inputs to feed into SM\n",
        "           returns:   a list of outputs of SM'''\n",
        "        output = []\n",
        "        t = self.start_state\n",
        "        for i in input_seq:\n",
        "            t = self.transition_fn(t,i)\n",
        "            output.append(self.output_fn(t))\n",
        "        return output\n"
      ],
      "execution_count": 2,
      "outputs": []
    },
    {
      "cell_type": "markdown",
      "metadata": {
        "id": "Kzdkh0p8AGi_"
      },
      "source": [
        "Below is the `Accumulator` state machine implementation that you saw above as well as an unit test to help test your `SM` class."
      ]
    },
    {
      "cell_type": "code",
      "metadata": {
        "id": "qmRnua5p_U9j",
        "outputId": "97f8f416-233e-4c37-e85b-557cce53f3d5",
        "colab": {
          "base_uri": "https://localhost:8080/"
        }
      },
      "source": [
        "class Accumulator(SM):\n",
        "    start_state = 0\n",
        "\n",
        "    def transition_fn(self, s, x):\n",
        "        return s + x\n",
        "\n",
        "    def output_fn(self, s):\n",
        "        return s\n",
        "    \n",
        "def test_accumulator_sm():\n",
        "    res = Accumulator().transduce([-1, 2, 3, -2, 5, 6])\n",
        "    assert(res == [-1, 1, 4, 2, 7, 13])\n",
        "    print(\"Test passed!\")\n",
        "\n",
        "# Unit test\n",
        "test_accumulator_sm()"
      ],
      "execution_count": 4,
      "outputs": [
        {
          "output_type": "stream",
          "name": "stdout",
          "text": [
            "Test passed!\n"
          ]
        }
      ]
    },
    {
      "cell_type": "markdown",
      "metadata": {
        "id": "j-QW8TSk9T1E"
      },
      "source": [
        "### 1.2 Binary Addition\n",
        "Implement a `Binary_Addition` state machine that takes in a sequence of pairs of binary digits (0,1) representing two reversed binary numbers and returns a sequence of digits representing the reversed sum. For instance, to sum two binary numbers `100` and `011`, the input sequence will be `[(0, 1), (0, 1), (1, 0)]`. You will need to define `start_state`, `transition_fn` and `output_fn`. Note that when transduced, the input sequence may need to be extended with an extra (0,0) to output the final carry."
      ]
    },
    {
      "cell_type": "code",
      "metadata": {
        "id": "JKcWyGrZ9mEj"
      },
      "source": [
        "class Binary_Addition(SM):\n",
        "    start_state = (0,0) # Change\n",
        "\n",
        "    def transition_fn(self, s, x):\n",
        "        # save state as val,presence of the bin carry\n",
        "        sm = s[1]+sum(x)\n",
        "        if sm > 1:\n",
        "            return (sm%2,1)\n",
        "        else:\n",
        "            return (sm,0)\n",
        "\n",
        "    def output_fn(self, s):\n",
        "        # Your code here\n",
        "        return s[0]\n"
      ],
      "execution_count": 3,
      "outputs": []
    },
    {
      "cell_type": "code",
      "metadata": {
        "id": "5hvOZXkcA0Au",
        "outputId": "b8abca81-870d-4541-ad23-62f90b305411",
        "colab": {
          "base_uri": "https://localhost:8080/"
        }
      },
      "source": [
        "def test_binary_addition_sm():\n",
        "    res = Binary_Addition().transduce([(1, 1), (1, 0), (0, 0)])\n",
        "    assert(res == [0, 0, 1])\n",
        "    print(\"Test passed!\")\n",
        "\n",
        "# Unit test\n",
        "test_binary_addition_sm()"
      ],
      "execution_count": 5,
      "outputs": [
        {
          "output_type": "stream",
          "name": "stdout",
          "text": [
            "Test passed!\n"
          ]
        }
      ]
    },
    {
      "cell_type": "markdown",
      "metadata": {
        "id": "vtIAZJN79s0h"
      },
      "source": [
        "### 1.3 Reverser\n",
        "Implement a state machine that reverses a sequence. The input is a list of the form:\n",
        "\n",
        "```\n",
        " sequence1 + ['end'] + sequence2\n",
        " ```\n",
        " \n",
        "`+` refers to concatenation. `sequence1` is a list of strings, the `'end'` string indicates termination, and `sequence2` is arbitrary. The machine reverses `sequence1`: for each entry in the `sequence1`, the machine outputs `None`. For the `'end'` input and each entry in the second sequence, an item from the reversed `sequence1` is output, or `None` if no characters remain."
      ]
    },
    {
      "cell_type": "code",
      "metadata": {
        "id": "VtsUESbg9wAS"
      },
      "source": [
        "class Reverser(SM):\n",
        "    start_state = ([],None,True) # (seq1,out,dir)\n",
        "\n",
        "    def transition_fn(self, s, x):\n",
        "        # Your code here\n",
        "        if s[2]: #looking for end still in seq1\n",
        "            if x == 'end':\n",
        "                ot = s[0].pop() if s[0] and len(s[0]) > 0 else None\n",
        "                return (s[0],ot,False)\n",
        "            else:\n",
        "                return (s[0] + [x],None,True)\n",
        "        else: #output\n",
        "            if s[0] and len(s[0]) > 0:\n",
        "                ot = s[0].pop()\n",
        "                return (s[0],ot,False)\n",
        "            else:\n",
        "                return (s[0],None,False)\n",
        "        \n",
        "\n",
        "    def output_fn(self, s):\n",
        "        # Your code here\n",
        "        return s[1]\n"
      ],
      "execution_count": 6,
      "outputs": []
    },
    {
      "cell_type": "code",
      "metadata": {
        "id": "XchT3a-fA9oM",
        "outputId": "68b6d190-b16e-4d29-cacb-66de0a9271a2",
        "colab": {
          "base_uri": "https://localhost:8080/"
        }
      },
      "source": [
        "def test_reverser_sm():\n",
        "    res = Reverser().transduce(['foo', ' ', 'bar'] + ['end'] + list(range(5)))\n",
        "    assert(res == [None, None, None, 'bar', ' ', 'foo', None, None, None])\n",
        "    print(\"Test passed!\")\n",
        "\n",
        "# Unit test\n",
        "test_reverser_sm()"
      ],
      "execution_count": 7,
      "outputs": [
        {
          "output_type": "stream",
          "name": "stdout",
          "text": [
            "Test passed!\n"
          ]
        }
      ]
    },
    {
      "cell_type": "markdown",
      "metadata": {
        "id": "hmewFWqx_4ep"
      },
      "source": [
        "### 1.4 (Recurrent) Neural Networks as State Machines\n",
        "A neural network is a (learned) function that maps input vectors to output vectors. A recurrent neural network (RNN) is a (learned) state machine that maps input sequences to output sequences.\n",
        "\n",
        "In particular, an RNN has a transition function and an output function, each of which is defined in terms of weight matrices, offset vectors and activation functions, analogously to standard neural networks.\n",
        "\n",
        "* The inputs $x$ are $l\\times1$ vectors\n",
        "* The states $s$ are $m\\times1$ vectors\n",
        "* The outputs $y$ are $n\\times1$ vectors\n",
        "\n",
        "The behavior is defined as follows:\n",
        "$$\\begin{align*} s_{t} & = f_1(W^{ss} s_{{t-1}} + W^{sx} x_{t} + W^{ss}_0) \\\\ y_{t} & = f_2(W^o s_{t} + W^o_0) \\end{align*}$$\n",
        "\n",
        "where $f_1$ and $f_2$ are two activation functions, such as linear, softmax or tanh.\n",
        "\n",
        "\n",
        "Note that each input `i` below has dimension `l x 1`. Implement the corresponding state machine, where the weights are given in `__init__`. Make sure to set an appropriate `start_state`."
      ]
    },
    {
      "cell_type": "code",
      "metadata": {
        "id": "TcuRs5y0A4n-"
      },
      "source": [
        "class RNN(SM):\n",
        "    def __init__(self, Wsx, Wss, Wo, Wss_0, Wo_0, f1, f2, start_state):\n",
        "        self.Wsx = Wsx\n",
        "        self.Wss = Wss\n",
        "        self.Wo = Wo\n",
        "        self.Wss_0 = Wss_0\n",
        "        self.Wo_0 = Wo_0\n",
        "        self.start_state = start_state\n",
        "        self.f1 = f1\n",
        "        self.f2 = f2\n",
        "    def transition_fn(self, s, x):\n",
        "        return self.f1(np.dot(self.Wss, s) + np.dot(self.Wsx, x) + self.Wss_0)\n",
        "    def output_fn(self, s):\n",
        "        return self.f2(np.dot(self.Wo, s) + self.Wo_0)"
      ],
      "execution_count": 9,
      "outputs": []
    },
    {
      "cell_type": "code",
      "metadata": {
        "id": "DcckX5R1JWII",
        "outputId": "cd8781a9-3a41-4103-e5c1-770e31ae582d",
        "colab": {
          "base_uri": "https://localhost:8080/"
        }
      },
      "source": [
        "def softmax(z):\n",
        "    v = np.exp(z)\n",
        "    return v / np.sum(v, axis = 0)\n",
        "\n",
        "def test_rnn():\n",
        "    Wsx1 = np.array([[0.1],\n",
        "                     [0.3],\n",
        "                     [0.5]])\n",
        "    Wss1 = np.array([[0.1,0.2,0.3],\n",
        "                     [0.4,0.5,0.6],\n",
        "                     [0.7,0.8,0.9]])\n",
        "    Wo1 = np.array([[0.1,0.2,0.3],\n",
        "                    [0.4,0.5,0.6]])\n",
        "    Wss1_0 = np.array([[0.01],\n",
        "                       [0.02],\n",
        "                       [0.03]])\n",
        "    Wo1_0 = np.array([[0.1],\n",
        "                      [0.2]])\n",
        "    in1 = [np.array([[0.1]]),\n",
        "           np.array([[0.3]]),\n",
        "           np.array([[0.5]])]\n",
        "    start_state = np.array([[0,0,0]]).T\n",
        "    \n",
        "    rnn = RNN(Wsx1, Wss1, Wo1, Wss1_0, Wo1_0, np.tanh, softmax, start_state)\n",
        "    expected = np.array([[[0.4638293846951024], [0.5361706153048975]],\n",
        "                        [[0.4333239107898491], [0.566676089210151]],\n",
        "                        [[0.3821688606165438], [0.6178311393834561]]])\n",
        "\n",
        "    assert(np.allclose(expected, rnn.transduce(in1)))\n",
        "    print(\"Test passed!\")\n",
        "\n",
        "# Unit test\n",
        "test_rnn()"
      ],
      "execution_count": 10,
      "outputs": [
        {
          "output_type": "stream",
          "name": "stdout",
          "text": [
            "Test passed!\n"
          ]
        }
      ]
    },
    {
      "cell_type": "markdown",
      "metadata": {
        "id": "1gRiDImvBrTF"
      },
      "source": [
        "### 1.5 Accumulator Sign (RNN)\n",
        "Enter the parameter matrices and vectors for an instance of the `RNN` class such that the output is `1` if the cumulative sum of the inputs is positive, `-1` if the cumulative sum is negative and `0` if otherwise. Make sure that you scale the outputs so that the output activation values are very close to `1`, `0` and `-1`. Note that both the inputs and outputs are `1 x 1`.\n",
        "\n",
        "Hint: `np.tanh` may be useful. Remember to convert your Python lists to `np.array`."
      ]
    },
    {
      "cell_type": "code",
      "metadata": {
        "id": "PhH9pv3GBvam"
      },
      "source": [
        "Wsx = 1.0            # Your code here\n",
        "Wss = 1.0            # Your code here\n",
        "Wo = 1.0             # Your code here\n",
        "Wss_0 = 0.0          # Your code here\n",
        "Wo_0 = 0.0           # Your code here\n",
        "f1 = lambda x : x            # Your code here, e.g. lambda x : x\n",
        "f2 = lambda x : np.array([[1.0]]) if x > 0.0 else np.array([[-1.0]]) if x < 0.0 else np.array([[0.0]])            # Your code here\n",
        "start_state = 0.0    # Your code here\n",
        "acc_sign = RNN(Wsx, Wss, Wo, Wss_0, Wo_0, f1, f2, start_state)\n"
      ],
      "execution_count": 12,
      "outputs": []
    },
    {
      "cell_type": "code",
      "metadata": {
        "id": "78ug9-PLJk82",
        "outputId": "46bbde2f-bc47-43ec-c75c-b1f01920666c",
        "colab": {
          "base_uri": "https://localhost:8080/"
        }
      },
      "source": [
        "def test_acc_sign_rnn(acc_sign_rnn):\n",
        "    res = acc_sign_rnn.transduce([-1, -2, 2, 3, -3, 1])\n",
        "    expected = np.array([[[-1.0]], [[-1.0]], [[-1.0]], [[1.0]], [[-1.0]], [[0.0]]])\n",
        "    assert(np.allclose(expected, res))\n",
        "    print(\"Test passed!\")\n",
        "\n",
        "# Unit test\n",
        "test_acc_sign_rnn(acc_sign)"
      ],
      "execution_count": 13,
      "outputs": [
        {
          "output_type": "stream",
          "name": "stdout",
          "text": [
            "Test passed!\n"
          ]
        }
      ]
    },
    {
      "cell_type": "markdown",
      "metadata": {
        "id": "J01wlpQRCKyo"
      },
      "source": [
        "### 1.6 Autoregression (RNN)\n",
        "\n",
        "Enter the parameter matrices and vectors for an instance of the `RNN` class such that it implements the following autoregressive model:\n",
        "$$y_t=y_{t-1} - 2y_{t-2} + 3y_{t-3}$$\n",
        "Set `start_state` such that $y_1=-2$, $y_t=0$ for $t\\lt1$. Note that all inputs will be zero.\n"
      ]
    },
    {
      "cell_type": "code",
      "metadata": {
        "id": "C744ijBCCOm5"
      },
      "source": [
        "Wsx = 0            # Your code here\n",
        "Wss = np.array([[1,-2,3],[1,0,0],[0,1,0]])            # Your code here\n",
        "Wo = np.array([[1,0,0]])             # Your code here\n",
        "Wss_0 = 0          # Your code here\n",
        "Wo_0 = 0           # Your code here\n",
        "f1 = lambda x : x            # Your code here, e.g. lambda x : x\n",
        "f2 = lambda x : x             # Your code here\n",
        "start_state = np.array([[-2],[0],[0]])    # Your code here\n",
        "auto = RNN(Wsx, Wss, Wo, Wss_0, Wo_0, f1, f2, start_state)\n",
        "\n",
        "\n"
      ],
      "execution_count": 14,
      "outputs": []
    },
    {
      "cell_type": "code",
      "metadata": {
        "id": "4RrDCow1J-M8",
        "outputId": "fb3ad38d-711a-46b7-a7ce-877cb15d51f0",
        "colab": {
          "base_uri": "https://localhost:8080/"
        }
      },
      "source": [
        "def test_auto_rnn(auto_rnn):\n",
        "    res = auto_rnn.transduce([np.array([[0]]) for x in range(5)])\n",
        "    expected = np.array([[[-2.0]], [[2.0]], [[0.0]], [[-10.0]], [[-4.0]]])\n",
        "    assert(np.allclose(expected, res))\n",
        "    print(\"Test passed!\")\n",
        "    \n",
        "# Unit test\n",
        "test_auto_rnn(auto)"
      ],
      "execution_count": 15,
      "outputs": [
        {
          "output_type": "stream",
          "name": "stdout",
          "text": [
            "Test passed!\n"
          ]
        }
      ]
    }
  ]
}